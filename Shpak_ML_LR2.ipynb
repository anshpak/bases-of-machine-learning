{
 "cells": [
  {
   "cell_type": "markdown",
   "id": "b61801bd-e9b1-4fe0-a843-22f80058985c",
   "metadata": {},
   "source": [
    "# ЛР 1. Введение. Инструменты python для базовых задач МО."
   ]
  },
  {
   "cell_type": "markdown",
   "id": "096f29ae-5cf5-48e2-8b0c-28fd9cf7b1f1",
   "metadata": {},
   "source": [
    "## Библиотеки"
   ]
  },
  {
   "cell_type": "code",
   "execution_count": 1,
   "id": "01bd671e-43c3-4a90-a02a-03add6577996",
   "metadata": {},
   "outputs": [],
   "source": [
    "import numpy as np\n",
    "import numdifftools as nd\n",
    "import matplotlib.pyplot as plt\n",
    "import pandas as pd\n",
    "from sklearn.linear_model import LinearRegression #пробуем обучить стандартную модель регрессии из ЛР1 "
   ]
  },
  {
   "cell_type": "markdown",
   "id": "4c0b0e31-3613-427b-9315-db89c9537cc4",
   "metadata": {},
   "source": [
    "# Задания"
   ]
  },
  {
   "cell_type": "markdown",
   "id": "5bfc8862-87fb-46de-b621-1a9f03c159ad",
   "metadata": {},
   "source": [
    "## 1."
   ]
  },
  {
   "cell_type": "markdown",
   "id": "6e516cc3-7aff-4df3-8f0a-9d314ad9272e",
   "metadata": {},
   "source": [
    "### 1. Изучите подробно формулы. Попрактикуйтесь самостоятельно в их выводе."
   ]
  },
  {
   "cell_type": "markdown",
   "id": "54c2318d-a96e-4d98-a3e9-d87499c65a42",
   "metadata": {},
   "source": [
    "1). Если функция $f(\\overline{x}) = \\overline{a}^{T} \\cdot\\overline{x}$, то $f'(\\overline{x}) = \\overline{a} $. Где $\\overline{x},\\overline{a} $ - вектор столбцы.\n",
    "\n",
    "2).  Если функция $f(\\overline{x}) = \\overline{x}^{T} A\\overline{x}$, то $f'(\\overline{x}) = (A+A^{T})\\overline{x} $. Где $\\overline{x}$ - вектор столбец, $A$ - квадратная матрица соответсвующего размера."
   ]
  },
  {
   "cell_type": "markdown",
   "id": "49f23cfd-0649-4dff-acf1-b1e5ad092530",
   "metadata": {},
   "source": [
    "$f(\\overline{x}) = \\overline{x}^{T} A\\overline{x}$, то $f'(\\overline{x}) = (A+A^{T})\\overline{x} $.\n",
    "\n",
    "$\\overline{x}^{T} A = \\left( \\sum_{i = 1}^{n} x_i a_{1i} \\quad \\sum_{i = 1}^{n} x_i a_{2i} \\quad \\dots \\quad \\sum_{i = 1}^{n} x_i a_{ni} \\right)$.\n",
    "\n",
    "$\\overline{x}^{T} A\\overline{x} = x_1 \\sum_{i = 1}^{n} x_i a_{1i} + x_2 \\sum_{i = 1}^{n} x_i a_{2i} + \\dots + x_n \\sum_{i = 1}^{n} x_i a_{ni} = \\sum_{j = 1}^{n} \\sum_{i = 1}^{n} $.\n",
    "\n",
    "$\\dfrac{\\partial f}{\\partial x_k} = \\sum_{i = 1}^{n} a_{ki} x_i + \\sum_{i = 1}^{n} a_{ik} x_i = A \\overline{x} + A \\overline{x}^{T}$."
   ]
  },
  {
   "cell_type": "markdown",
   "id": "f631ba7f-a114-486c-86d2-b19935824032",
   "metadata": {},
   "source": [
    "### 2. Получите ещё 2 любых формулы для подобного матричного или векторного дифференцирования. Вывод формул кратко оформите в документе."
   ]
  },
  {
   "cell_type": "markdown",
   "id": "0f3190ce-6cad-465a-bceb-3c4ec8e5a653",
   "metadata": {},
   "source": [
    "$1) \\quad \\alpha = \\overline{y}^{T} \\overline{x}.$\n",
    "\n",
    "$\\overline{y}^{T} \\overline{x} = \\sum_{i = 1}^{n} y_i x_i$\n",
    "\n",
    "$\\dfrac{\\partial \\alpha}{\\partial z_k} = \\sum_{i = 1}^{n} y_i \\frac{\\partial x_i}{\\partial z_k} + \\sum_{i = 1}^{n} x_i \\frac{\\partial y_i}{\\partial z_k} = \\overline{y}^{T} \\frac{\\partial x}{\\partial z} + \\overline{x}^{T} \\frac{\\partial y}{\\partial z}$"
   ]
  },
  {
   "cell_type": "markdown",
   "id": "a6056cc4-8587-4ae7-a48c-fd28c9765527",
   "metadata": {},
   "source": [
    "$2) \\quad \\alpha = \\overline{y}^{T} A \\overline{x}$.\n",
    "\n",
    "$\\overline{w}^{T} = \\overline{y}^{T} A$.\n",
    "\n",
    "$\\alpha = \\overline{w}^{T} \\overline{x}$.\n",
    "\n",
    "$\\dfrac{\\partial \\alpha}{\\partial z_k} = \\overline{x}^{T} \\frac{\\partial w}{\\partial z} + \\overline{w}^{T} \\frac{\\partial x}{\\partial z} = \\overline{x}^{T} A^T \\frac{\\partial y}{\\partial z} + \\overline{y}^{T} A \\frac{\\partial x}{\\partial z}$"
   ]
  },
  {
   "cell_type": "markdown",
   "id": "2fcf815a-d5de-40ef-b95c-ba40bac9288d",
   "metadata": {},
   "source": [
    "### 3. Проверьте справедливость полученных вами формул с помощью встроенных функций пакета numdifftools."
   ]
  },
  {
   "cell_type": "code",
   "execution_count": 2,
   "id": "2def055f-4b4b-4229-b163-15e06ec4a7e2",
   "metadata": {},
   "outputs": [
    {
     "data": {
      "text/plain": [
       "array([[3, 7, 6, 6, 0, 5, 9, 0, 5, 0],\n",
       "       [8, 7, 2, 8, 9, 6, 6, 4, 7, 5],\n",
       "       [5, 9, 5, 0, 1, 2, 5, 7, 7, 6],\n",
       "       [2, 2, 5, 4, 7, 8, 7, 5, 5, 0],\n",
       "       [7, 7, 1, 5, 8, 1, 3, 1, 6, 7],\n",
       "       [7, 2, 6, 7, 0, 3, 5, 5, 2, 4],\n",
       "       [8, 8, 3, 6, 5, 7, 8, 2, 4, 0],\n",
       "       [0, 5, 6, 1, 7, 9, 8, 4, 8, 0],\n",
       "       [6, 7, 5, 3, 0, 1, 3, 6, 5, 0],\n",
       "       [2, 3, 5, 3, 3, 0, 9, 6, 5, 1]])"
      ]
     },
     "execution_count": 2,
     "metadata": {},
     "output_type": "execute_result"
    }
   ],
   "source": [
    "A = np.random.randint(10, size = (10, 10))\n",
    "A"
   ]
  },
  {
   "cell_type": "code",
   "execution_count": 3,
   "id": "1a4caab9-0f1e-42fa-91c6-d2fe65a1218b",
   "metadata": {},
   "outputs": [],
   "source": [
    "def func(x, y): \n",
    "    return np.dot(np.dot(y.T, A), x)"
   ]
  },
  {
   "cell_type": "code",
   "execution_count": 4,
   "id": "752ad778-3e54-489a-a0ff-3181b73ec2b4",
   "metadata": {},
   "outputs": [
    {
     "data": {
      "text/plain": [
       "array([0, 1, 2, 3, 4, 5, 6, 7, 8, 9])"
      ]
     },
     "execution_count": 4,
     "metadata": {},
     "output_type": "execute_result"
    }
   ],
   "source": [
    "x0 = np.arange(0, 10)\n",
    "x0"
   ]
  },
  {
   "cell_type": "code",
   "execution_count": 5,
   "id": "d6595456-f0a5-42e4-a444-725a6082016a",
   "metadata": {},
   "outputs": [
    {
     "data": {
      "text/plain": [
       "array([0, 1, 2, 3, 4, 5, 6, 7, 8, 9])"
      ]
     },
     "execution_count": 5,
     "metadata": {},
     "output_type": "execute_result"
    }
   ],
   "source": [
    "y0 = np.arange(0, 10)\n",
    "y0"
   ]
  },
  {
   "cell_type": "code",
   "execution_count": 6,
   "id": "fec48ee2-5ea9-40e8-824b-98a01c7ad8f4",
   "metadata": {},
   "outputs": [
    {
     "data": {
      "text/plain": [
       "array([201., 235., 206., 169., 170., 166., 283., 204., 235.,  74.])"
      ]
     },
     "execution_count": 6,
     "metadata": {},
     "output_type": "execute_result"
    }
   ],
   "source": [
    "grad = nd.Gradient(func)(x0, y0)\n",
    "grad"
   ]
  },
  {
   "cell_type": "code",
   "execution_count": 7,
   "id": "4af10871-38f4-4f5c-adf2-ce77632685e3",
   "metadata": {},
   "outputs": [
    {
     "data": {
      "text/plain": [
       "array([201, 235, 206, 169, 170, 166, 283, 204, 235,  74])"
      ]
     },
     "execution_count": 7,
     "metadata": {},
     "output_type": "execute_result"
    }
   ],
   "source": [
    "np.dot(y0.T, A)"
   ]
  },
  {
   "cell_type": "markdown",
   "id": "5381dbd0-69d4-431f-a2ca-e4ff5894883a",
   "metadata": {},
   "source": [
    "## 2."
   ]
  },
  {
   "cell_type": "markdown",
   "id": "55a8fa1b-08e7-4eb6-8c1c-6e2b3e89ce5a",
   "metadata": {},
   "source": [
    "### Теория"
   ]
  },
  {
   "cell_type": "markdown",
   "id": "923ac2db-cde2-4551-b6c8-839f4504f1dc",
   "metadata": {},
   "source": [
    "RandomState exposes a number of methods for generating random numbers drawn from a variety of probability distributions."
   ]
  },
  {
   "cell_type": "markdown",
   "id": "4f2c8897-a860-4d26-91af-aa8d077ae4a2",
   "metadata": {},
   "source": [
    "Random seed in $np.random.RandomState(Seed)$ is used to initialize the pseudo-random number generator. Can be any integer between 0 and 2**32 - 1 inclusive, an array (or other sequence) of such integers, or None (the default). If seed is None, then RandomState will try to read data from /dev/urandom (or the Windows analogue) if available or seed from the clock otherwise."
   ]
  },
  {
   "cell_type": "markdown",
   "id": "6bb60cb0-d78a-4d88-94f1-002d25b27fe8",
   "metadata": {},
   "source": [
    "$LinearRegression(fit\\_intercept=True)$ Whether to calculate the intercept for this model. If set to False, no intercept will be used in calculations (i.e. data is expected to be centered)."
   ]
  },
  {
   "cell_type": "markdown",
   "id": "e3d81b09-c09f-4133-b392-2a7d09a58b53",
   "metadata": {},
   "source": [
    "### Коэффициент детерминации"
   ]
  },
  {
   "cell_type": "code",
   "execution_count": 65,
   "id": "dd4c6871-fece-4f94-8aef-d27469414e6d",
   "metadata": {},
   "outputs": [],
   "source": [
    "def get_det_coeff(y, Y):\n",
    "    return 1 - np.dot(y - Y, (y - Y).T) / np.dot(y - np.mean(y), (y - np.mean(y)).T)"
   ]
  },
  {
   "cell_type": "markdown",
   "id": "a0be1b10-20da-4a3d-8a81-3af31b40e610",
   "metadata": {},
   "source": [
    "### 2. Реализуйте функции для работы регрессии по произвольному базису самостоятельно (используйте только базовые функции и numpy), используя формулы, полученные выше. Используйте матричные вычисления!"
   ]
  },
  {
   "cell_type": "code",
   "execution_count": 3,
   "id": "b8bfa963-281b-4aaf-9129-c64c77e3a42e",
   "metadata": {},
   "outputs": [],
   "source": [
    "def get_Q(x, poly_deg):\n",
    "    X = x[:, np.newaxis]\n",
    "    from sklearn.preprocessing import PolynomialFeatures\n",
    "    poly_reg = PolynomialFeatures(degree=4)\n",
    "    return poly_reg.fit_transform(X)"
   ]
  },
  {
   "cell_type": "code",
   "execution_count": 4,
   "id": "17d0d6de-270a-47e0-8616-c3fe8b608eb3",
   "metadata": {},
   "outputs": [],
   "source": [
    "def get_weights(x, y, poly_deg):\n",
    "    Q = get_Q(x, poly_deg)\n",
    "    return np.dot(np.dot(np.linalg.inv(np.dot(Q.T, Q)), Q.T), y)"
   ]
  },
  {
   "cell_type": "markdown",
   "id": "13f4152c-a66e-4030-9da8-18379268e7e8",
   "metadata": {},
   "source": [
    "### 3. Попрактикуйте модели и вашу и встроенную на разных искусственных данных."
   ]
  },
  {
   "cell_type": "code",
   "execution_count": 11,
   "id": "f7edc0c0-9bd7-4410-b028-b680a1a8a26a",
   "metadata": {},
   "outputs": [],
   "source": [
    "rng = np.random.RandomState(1) # задаём искусственные данные\n",
    "x = 10 * rng.rand(50)\n",
    "y = np.sin(x) + 0.1 * rng.randn(50)\n",
    "n = 4"
   ]
  },
  {
   "cell_type": "code",
   "execution_count": 12,
   "id": "2de03add-3d3a-420f-ba24-aab696ce0115",
   "metadata": {},
   "outputs": [],
   "source": [
    "x_test = np.linspace(np.min(x), np.max(x), 50)\n",
    "y_test = np.sin(x_test) + 0.1 * rng.randn(50)"
   ]
  },
  {
   "cell_type": "code",
   "execution_count": 13,
   "id": "ba074b29-a783-4bc9-b9b9-35e766b7a0db",
   "metadata": {},
   "outputs": [],
   "source": [
    "Y = np.dot(get_weights(x, y, n), get_Q(x_test, n).T)"
   ]
  },
  {
   "cell_type": "code",
   "execution_count": 14,
   "id": "6c03fd31-b083-48bf-b901-d5a8633366ae",
   "metadata": {},
   "outputs": [
    {
     "data": {
      "text/plain": [
       "array([-0.19352209,  0.1950907 ,  0.49401596,  0.71291842,  0.8610267 ,\n",
       "        0.94713332,  0.97959467,  0.96633103,  0.91482656,  0.83212932,\n",
       "        0.72485122,  0.59916809,  0.46081964,  0.31510943,  0.16690494,\n",
       "        0.02063754, -0.11969756, -0.25054122, -0.36877044, -0.47169833,\n",
       "       -0.5570741 , -0.62308311, -0.66834681, -0.69192277, -0.69330468,\n",
       "       -0.67242234, -0.62964167, -0.56576471, -0.4820296 , -0.3801106 ,\n",
       "       -0.26211811, -0.13059862,  0.01146526,  0.1606548 ,  0.31311516,\n",
       "        0.46455537,  0.61024837,  0.74503095,  0.86330382,  0.95903156,\n",
       "        1.02574261,  1.05652934,  1.04404797,  0.98051861,  0.85772527,\n",
       "        0.66701583,  0.39930206,  0.0450596 , -0.40567199, -0.96328931])"
      ]
     },
     "execution_count": 14,
     "metadata": {},
     "output_type": "execute_result"
    }
   ],
   "source": [
    "Y"
   ]
  },
  {
   "cell_type": "code",
   "execution_count": 15,
   "id": "7067c488-789c-44e8-8384-ca241642c0b1",
   "metadata": {},
   "outputs": [
    {
     "data": {
      "text/plain": [
       "[<matplotlib.lines.Line2D at 0x258ec4c07d0>]"
      ]
     },
     "execution_count": 15,
     "metadata": {},
     "output_type": "execute_result"
    },
    {
     "data": {
      "image/png": "[encoded data removed]",
      "text/plain": [
       "<Figure size 640x480 with 1 Axes>"
      ]
     },
     "metadata": {},
     "output_type": "display_data"
    }
   ],
   "source": [
    "plt.scatter(x, y, c ='red')\n",
    "plt.plot(x_test, Y)"
   ]
  },
  {
   "cell_type": "code",
   "execution_count": 16,
   "id": "3170498e-5185-4713-a964-548f19f358ca",
   "metadata": {},
   "outputs": [
    {
     "data": {
      "text/plain": [
       "0.9117447361003214"
      ]
     },
     "execution_count": 16,
     "metadata": {},
     "output_type": "execute_result"
    }
   ],
   "source": [
    "get_det_coeff(y_test, Y)"
   ]
  },
  {
   "cell_type": "code",
   "execution_count": 41,
   "id": "90fa98e9-d0fd-4580-a836-7ab4838b1ea4",
   "metadata": {},
   "outputs": [],
   "source": [
    "rng = np.random.RandomState(1) # задаём искусственные данные\n",
    "x = 10 * rng.rand(50)\n",
    "y = np.tan(x) + 0.1 * rng.randn(50)\n",
    "n = 4"
   ]
  },
  {
   "cell_type": "code",
   "execution_count": 44,
   "id": "eb18a3d2-c666-490b-b5f9-b2ed07635f67",
   "metadata": {},
   "outputs": [],
   "source": [
    "x_test = np.linspace(np.min(x), np.max(x), 50)\n",
    "y_test = np.tan(x_test) + 0.1 * rng.randn(50)"
   ]
  },
  {
   "cell_type": "code",
   "execution_count": 45,
   "id": "110492c7-c424-4534-8d7d-2554e2fad1fd",
   "metadata": {},
   "outputs": [],
   "source": [
    "Y = np.dot(get_weights(x, y, n), get_Q(x_test, n).T)"
   ]
  },
  {
   "cell_type": "code",
   "execution_count": 46,
   "id": "cf809a10-ec79-44aa-afb6-46fba7272ac3",
   "metadata": {},
   "outputs": [
    {
     "data": {
      "text/plain": [
       "[<matplotlib.lines.Line2D at 0x258ede2d550>]"
      ]
     },
     "execution_count": 46,
     "metadata": {},
     "output_type": "execute_result"
    },
    {
     "data": {
      "image/png": "[encoded data removed]",
      "text/plain": [
       "<Figure size 640x480 with 1 Axes>"
      ]
     },
     "metadata": {},
     "output_type": "display_data"
    }
   ],
   "source": [
    "plt.scatter(x, y, c ='red')\n",
    "plt.plot(x_test, Y,)"
   ]
  },
  {
   "cell_type": "code",
   "execution_count": 47,
   "id": "8d3047e4-96c4-4b03-af47-750c7a9ad0de",
   "metadata": {},
   "outputs": [
    {
     "data": {
      "text/plain": [
       "0.031190427132617105"
      ]
     },
     "execution_count": 47,
     "metadata": {},
     "output_type": "execute_result"
    }
   ],
   "source": [
    "get_det_coeff(y_test, Y)"
   ]
  },
  {
   "cell_type": "code",
   "execution_count": 32,
   "id": "9016a5f9-be35-404c-83ce-5e764eec3a66",
   "metadata": {},
   "outputs": [],
   "source": [
    "rng = np.random.RandomState(1) # задаём искусственные данные\n",
    "x = 10 * rng.rand(50)\n",
    "y = np.cos(x) + 0.1 * rng.randn(50)\n",
    "n = 3"
   ]
  },
  {
   "cell_type": "code",
   "execution_count": 37,
   "id": "f7691b70-dcdb-443b-be0c-746094aaa53b",
   "metadata": {},
   "outputs": [],
   "source": [
    "x_test = np.linspace(np.min(x), np.max(x), 50)\n",
    "y_test = np.cos(x_test) + 0.1 * rng.randn(50)"
   ]
  },
  {
   "cell_type": "code",
   "execution_count": 38,
   "id": "5473cae2-4cc8-44fc-9eab-de00c69d588a",
   "metadata": {},
   "outputs": [],
   "source": [
    "Y = np.dot(get_weights(x, y, n), get_Q(x_test, n).T)"
   ]
  },
  {
   "cell_type": "code",
   "execution_count": 39,
   "id": "c57f9fdb-21d0-416b-b62c-4defec0d1c86",
   "metadata": {},
   "outputs": [
    {
     "data": {
      "text/plain": [
       "[<matplotlib.lines.Line2D at 0x258ec839f10>]"
      ]
     },
     "execution_count": 39,
     "metadata": {},
     "output_type": "execute_result"
    },
    {
     "data": {
      "image/png": "[encoded data removed]",
      "text/plain": [
       "<Figure size 640x480 with 1 Axes>"
      ]
     },
     "metadata": {},
     "output_type": "display_data"
    }
   ],
   "source": [
    "plt.scatter(x, y, c ='red')\n",
    "plt.plot(x_test, Y)"
   ]
  },
  {
   "cell_type": "code",
   "execution_count": 40,
   "id": "dd891995-b414-4801-aa57-eb1d8af716e9",
   "metadata": {},
   "outputs": [
    {
     "data": {
      "text/plain": [
       "0.7342205684326903"
      ]
     },
     "execution_count": 40,
     "metadata": {},
     "output_type": "execute_result"
    }
   ],
   "source": [
    "get_det_coeff(y_test, Y)"
   ]
  },
  {
   "cell_type": "markdown",
   "id": "4aaf564e-5134-490b-8edc-0c593fabe76e",
   "metadata": {},
   "source": [
    "### 4. Постройте модели (встроенную и вашу) для прогнозирования веса рыбы из файла Fish.csv. Попробуйте различные базисы, различные комбинации фич и постарайтесь повысить точность прогноза."
   ]
  },
  {
   "cell_type": "code",
   "execution_count": 59,
   "id": "69034590-5aa6-44be-b64d-93803d56dbe9",
   "metadata": {},
   "outputs": [
    {
     "data": {
      "text/html": [
       "<div>\n",
       "<style scoped>\n",
       "    .dataframe tbody tr th:only-of-type {\n",
       "        vertical-align: middle;\n",
       "    }\n",
       "\n",
       "    .dataframe tbody tr th {\n",
       "        vertical-align: top;\n",
       "    }\n",
       "\n",
       "    .dataframe thead th {\n",
       "        text-align: right;\n",
       "    }\n",
       "</style>\n",
       "<table border=\"1\" class=\"dataframe\">\n",
       "  <thead>\n",
       "    <tr style=\"text-align: right;\">\n",
       "      <th></th>\n",
       "      <th>Species</th>\n",
       "      <th>Weight</th>\n",
       "      <th>Length1</th>\n",
       "      <th>Length2</th>\n",
       "      <th>Length3</th>\n",
       "      <th>Height</th>\n",
       "      <th>Width</th>\n",
       "    </tr>\n",
       "  </thead>\n",
       "  <tbody>\n",
       "    <tr>\n",
       "      <th>0</th>\n",
       "      <td>Bream</td>\n",
       "      <td>242.0</td>\n",
       "      <td>23.2</td>\n",
       "      <td>25.4</td>\n",
       "      <td>30.0</td>\n",
       "      <td>11.5200</td>\n",
       "      <td>4.0200</td>\n",
       "    </tr>\n",
       "    <tr>\n",
       "      <th>1</th>\n",
       "      <td>Bream</td>\n",
       "      <td>290.0</td>\n",
       "      <td>24.0</td>\n",
       "      <td>26.3</td>\n",
       "      <td>31.2</td>\n",
       "      <td>12.4800</td>\n",
       "      <td>4.3056</td>\n",
       "    </tr>\n",
       "    <tr>\n",
       "      <th>2</th>\n",
       "      <td>Bream</td>\n",
       "      <td>340.0</td>\n",
       "      <td>23.9</td>\n",
       "      <td>26.5</td>\n",
       "      <td>31.1</td>\n",
       "      <td>12.3778</td>\n",
       "      <td>4.6961</td>\n",
       "    </tr>\n",
       "    <tr>\n",
       "      <th>3</th>\n",
       "      <td>Bream</td>\n",
       "      <td>363.0</td>\n",
       "      <td>26.3</td>\n",
       "      <td>29.0</td>\n",
       "      <td>33.5</td>\n",
       "      <td>12.7300</td>\n",
       "      <td>4.4555</td>\n",
       "    </tr>\n",
       "    <tr>\n",
       "      <th>4</th>\n",
       "      <td>Bream</td>\n",
       "      <td>430.0</td>\n",
       "      <td>26.5</td>\n",
       "      <td>29.0</td>\n",
       "      <td>34.0</td>\n",
       "      <td>12.4440</td>\n",
       "      <td>5.1340</td>\n",
       "    </tr>\n",
       "  </tbody>\n",
       "</table>\n",
       "</div>"
      ],
      "text/plain": [
       "  Species  Weight  Length1  Length2  Length3   Height   Width\n",
       "0   Bream   242.0     23.2     25.4     30.0  11.5200  4.0200\n",
       "1   Bream   290.0     24.0     26.3     31.2  12.4800  4.3056\n",
       "2   Bream   340.0     23.9     26.5     31.1  12.3778  4.6961\n",
       "3   Bream   363.0     26.3     29.0     33.5  12.7300  4.4555\n",
       "4   Bream   430.0     26.5     29.0     34.0  12.4440  5.1340"
      ]
     },
     "execution_count": 59,
     "metadata": {},
     "output_type": "execute_result"
    }
   ],
   "source": [
    "dataframe = pd.read_csv(\"Fish.csv\") # загружаем данные\n",
    "dataframe.head()"
   ]
  },
  {
   "cell_type": "code",
   "execution_count": 60,
   "id": "525ad220-f8ea-4a08-a884-2058a13b80c1",
   "metadata": {},
   "outputs": [],
   "source": [
    "X = dataframe.drop([\"Species\",\"Weight\"], axis=1).values # выбираем то, что будет фичами\n",
    "y = dataframe[\"Weight\"].values # вес будем предсказывать\n",
    "n = 3"
   ]
  },
  {
   "cell_type": "code",
   "execution_count": 61,
   "id": "11ffd398-4e04-4744-b1a5-ca9866198ad9",
   "metadata": {},
   "outputs": [],
   "source": [
    "X;"
   ]
  },
  {
   "cell_type": "code",
   "execution_count": 62,
   "id": "e11af563-c62c-43b7-8a26-dcee6fb62faa",
   "metadata": {},
   "outputs": [],
   "source": [
    "y;"
   ]
  },
  {
   "cell_type": "code",
   "execution_count": 63,
   "id": "b93a258d-35c5-4dfe-add1-64c2d299e04f",
   "metadata": {},
   "outputs": [
    {
     "data": {
      "text/html": [
       "<style>#sk-container-id-1 {color: black;}#sk-container-id-1 pre{padding: 0;}#sk-container-id-1 div.sk-toggleable {background-color: white;}#sk-container-id-1 label.sk-toggleable__label {cursor: pointer;display: block;width: 100%;margin-bottom: 0;padding: 0.3em;box-sizing: border-box;text-align: center;}#sk-container-id-1 label.sk-toggleable__label-arrow:before {content: \"▸\";float: left;margin-right: 0.25em;color: #696969;}#sk-container-id-1 label.sk-toggleable__label-arrow:hover:before {color: black;}#sk-container-id-1 div.sk-estimator:hover label.sk-toggleable__label-arrow:before {color: black;}#sk-container-id-1 div.sk-toggleable__content {max-height: 0;max-width: 0;overflow: hidden;text-align: left;background-color: #f0f8ff;}#sk-container-id-1 div.sk-toggleable__content pre {margin: 0.2em;color: black;border-radius: 0.25em;background-color: #f0f8ff;}#sk-container-id-1 input.sk-toggleable__control:checked~div.sk-toggleable__content {max-height: 200px;max-width: 100%;overflow: auto;}#sk-container-id-1 input.sk-toggleable__control:checked~label.sk-toggleable__label-arrow:before {content: \"▾\";}#sk-container-id-1 div.sk-estimator input.sk-toggleable__control:checked~label.sk-toggleable__label {background-color: #d4ebff;}#sk-container-id-1 div.sk-label input.sk-toggleable__control:checked~label.sk-toggleable__label {background-color: #d4ebff;}#sk-container-id-1 input.sk-hidden--visually {border: 0;clip: rect(1px 1px 1px 1px);clip: rect(1px, 1px, 1px, 1px);height: 1px;margin: -1px;overflow: hidden;padding: 0;position: absolute;width: 1px;}#sk-container-id-1 div.sk-estimator {font-family: monospace;background-color: #f0f8ff;border: 1px dotted black;border-radius: 0.25em;box-sizing: border-box;margin-bottom: 0.5em;}#sk-container-id-1 div.sk-estimator:hover {background-color: #d4ebff;}#sk-container-id-1 div.sk-parallel-item::after {content: \"\";width: 100%;border-bottom: 1px solid gray;flex-grow: 1;}#sk-container-id-1 div.sk-label:hover label.sk-toggleable__label {background-color: #d4ebff;}#sk-container-id-1 div.sk-serial::before {content: \"\";position: absolute;border-left: 1px solid gray;box-sizing: border-box;top: 0;bottom: 0;left: 50%;z-index: 0;}#sk-container-id-1 div.sk-serial {display: flex;flex-direction: column;align-items: center;background-color: white;padding-right: 0.2em;padding-left: 0.2em;position: relative;}#sk-container-id-1 div.sk-item {position: relative;z-index: 1;}#sk-container-id-1 div.sk-parallel {display: flex;align-items: stretch;justify-content: center;background-color: white;position: relative;}#sk-container-id-1 div.sk-item::before, #sk-container-id-1 div.sk-parallel-item::before {content: \"\";position: absolute;border-left: 1px solid gray;box-sizing: border-box;top: 0;bottom: 0;left: 50%;z-index: -1;}#sk-container-id-1 div.sk-parallel-item {display: flex;flex-direction: column;z-index: 1;position: relative;background-color: white;}#sk-container-id-1 div.sk-parallel-item:first-child::after {align-self: flex-end;width: 50%;}#sk-container-id-1 div.sk-parallel-item:last-child::after {align-self: flex-start;width: 50%;}#sk-container-id-1 div.sk-parallel-item:only-child::after {width: 0;}#sk-container-id-1 div.sk-dashed-wrapped {border: 1px dashed gray;margin: 0 0.4em 0.5em 0.4em;box-sizing: border-box;padding-bottom: 0.4em;background-color: white;}#sk-container-id-1 div.sk-label label {font-family: monospace;font-weight: bold;display: inline-block;line-height: 1.2em;}#sk-container-id-1 div.sk-label-container {text-align: center;}#sk-container-id-1 div.sk-container {/* jupyter's `normalize.less` sets `[hidden] { display: none; }` but bootstrap.min.css set `[hidden] { display: none !important; }` so we also need the `!important` here to be able to override the default hidden behavior on the sphinx rendered scikit-learn.org. See: https://github.com/scikit-learn/scikit-learn/issues/21755 */display: inline-block !important;position: relative;}#sk-container-id-1 div.sk-text-repr-fallback {display: none;}</style><div id=\"sk-container-id-1\" class=\"sk-top-container\"><div class=\"sk-text-repr-fallback\"><pre>LinearRegression()</pre><b>In a Jupyter environment, please rerun this cell to show the HTML representation or trust the notebook. <br />On GitHub, the HTML representation is unable to render, please try loading this page with nbviewer.org.</b></div><div class=\"sk-container\" hidden><div class=\"sk-item\"><div class=\"sk-estimator sk-toggleable\"><input class=\"sk-toggleable__control sk-hidden--visually\" id=\"sk-estimator-id-1\" type=\"checkbox\" checked><label for=\"sk-estimator-id-1\" class=\"sk-toggleable__label sk-toggleable__label-arrow\">LinearRegression</label><div class=\"sk-toggleable__content\"><pre>LinearRegression()</pre></div></div></div></div></div>"
      ],
      "text/plain": [
       "LinearRegression()"
      ]
     },
     "execution_count": 63,
     "metadata": {},
     "output_type": "execute_result"
    }
   ],
   "source": [
    "model = LinearRegression(fit_intercept=True) # модель регрессии по умолчанию будет использовать стандартный базис\n",
    "model"
   ]
  },
  {
   "cell_type": "code",
   "execution_count": 64,
   "id": "6c379ddc-c904-414b-af01-f4051289a366",
   "metadata": {},
   "outputs": [
    {
     "data": {
      "text/html": [
       "<style>#sk-container-id-2 {color: black;}#sk-container-id-2 pre{padding: 0;}#sk-container-id-2 div.sk-toggleable {background-color: white;}#sk-container-id-2 label.sk-toggleable__label {cursor: pointer;display: block;width: 100%;margin-bottom: 0;padding: 0.3em;box-sizing: border-box;text-align: center;}#sk-container-id-2 label.sk-toggleable__label-arrow:before {content: \"▸\";float: left;margin-right: 0.25em;color: #696969;}#sk-container-id-2 label.sk-toggleable__label-arrow:hover:before {color: black;}#sk-container-id-2 div.sk-estimator:hover label.sk-toggleable__label-arrow:before {color: black;}#sk-container-id-2 div.sk-toggleable__content {max-height: 0;max-width: 0;overflow: hidden;text-align: left;background-color: #f0f8ff;}#sk-container-id-2 div.sk-toggleable__content pre {margin: 0.2em;color: black;border-radius: 0.25em;background-color: #f0f8ff;}#sk-container-id-2 input.sk-toggleable__control:checked~div.sk-toggleable__content {max-height: 200px;max-width: 100%;overflow: auto;}#sk-container-id-2 input.sk-toggleable__control:checked~label.sk-toggleable__label-arrow:before {content: \"▾\";}#sk-container-id-2 div.sk-estimator input.sk-toggleable__control:checked~label.sk-toggleable__label {background-color: #d4ebff;}#sk-container-id-2 div.sk-label input.sk-toggleable__control:checked~label.sk-toggleable__label {background-color: #d4ebff;}#sk-container-id-2 input.sk-hidden--visually {border: 0;clip: rect(1px 1px 1px 1px);clip: rect(1px, 1px, 1px, 1px);height: 1px;margin: -1px;overflow: hidden;padding: 0;position: absolute;width: 1px;}#sk-container-id-2 div.sk-estimator {font-family: monospace;background-color: #f0f8ff;border: 1px dotted black;border-radius: 0.25em;box-sizing: border-box;margin-bottom: 0.5em;}#sk-container-id-2 div.sk-estimator:hover {background-color: #d4ebff;}#sk-container-id-2 div.sk-parallel-item::after {content: \"\";width: 100%;border-bottom: 1px solid gray;flex-grow: 1;}#sk-container-id-2 div.sk-label:hover label.sk-toggleable__label {background-color: #d4ebff;}#sk-container-id-2 div.sk-serial::before {content: \"\";position: absolute;border-left: 1px solid gray;box-sizing: border-box;top: 0;bottom: 0;left: 50%;z-index: 0;}#sk-container-id-2 div.sk-serial {display: flex;flex-direction: column;align-items: center;background-color: white;padding-right: 0.2em;padding-left: 0.2em;position: relative;}#sk-container-id-2 div.sk-item {position: relative;z-index: 1;}#sk-container-id-2 div.sk-parallel {display: flex;align-items: stretch;justify-content: center;background-color: white;position: relative;}#sk-container-id-2 div.sk-item::before, #sk-container-id-2 div.sk-parallel-item::before {content: \"\";position: absolute;border-left: 1px solid gray;box-sizing: border-box;top: 0;bottom: 0;left: 50%;z-index: -1;}#sk-container-id-2 div.sk-parallel-item {display: flex;flex-direction: column;z-index: 1;position: relative;background-color: white;}#sk-container-id-2 div.sk-parallel-item:first-child::after {align-self: flex-end;width: 50%;}#sk-container-id-2 div.sk-parallel-item:last-child::after {align-self: flex-start;width: 50%;}#sk-container-id-2 div.sk-parallel-item:only-child::after {width: 0;}#sk-container-id-2 div.sk-dashed-wrapped {border: 1px dashed gray;margin: 0 0.4em 0.5em 0.4em;box-sizing: border-box;padding-bottom: 0.4em;background-color: white;}#sk-container-id-2 div.sk-label label {font-family: monospace;font-weight: bold;display: inline-block;line-height: 1.2em;}#sk-container-id-2 div.sk-label-container {text-align: center;}#sk-container-id-2 div.sk-container {/* jupyter's `normalize.less` sets `[hidden] { display: none; }` but bootstrap.min.css set `[hidden] { display: none !important; }` so we also need the `!important` here to be able to override the default hidden behavior on the sphinx rendered scikit-learn.org. See: https://github.com/scikit-learn/scikit-learn/issues/21755 */display: inline-block !important;position: relative;}#sk-container-id-2 div.sk-text-repr-fallback {display: none;}</style><div id=\"sk-container-id-2\" class=\"sk-top-container\"><div class=\"sk-text-repr-fallback\"><pre>LinearRegression()</pre><b>In a Jupyter environment, please rerun this cell to show the HTML representation or trust the notebook. <br />On GitHub, the HTML representation is unable to render, please try loading this page with nbviewer.org.</b></div><div class=\"sk-container\" hidden><div class=\"sk-item\"><div class=\"sk-estimator sk-toggleable\"><input class=\"sk-toggleable__control sk-hidden--visually\" id=\"sk-estimator-id-2\" type=\"checkbox\" checked><label for=\"sk-estimator-id-2\" class=\"sk-toggleable__label sk-toggleable__label-arrow\">LinearRegression</label><div class=\"sk-toggleable__content\"><pre>LinearRegression()</pre></div></div></div></div></div>"
      ],
      "text/plain": [
       "LinearRegression()"
      ]
     },
     "execution_count": 64,
     "metadata": {},
     "output_type": "execute_result"
    }
   ],
   "source": [
    "model.fit(X, y)"
   ]
  },
  {
   "cell_type": "code",
   "execution_count": 65,
   "id": "c63760ee-ae53-4688-967e-1657be2a3126",
   "metadata": {},
   "outputs": [
    {
     "data": {
      "text/plain": [
       "0.8852867046546207"
      ]
     },
     "execution_count": 65,
     "metadata": {},
     "output_type": "execute_result"
    }
   ],
   "source": [
    "model.score(X,y)"
   ]
  },
  {
   "cell_type": "code",
   "execution_count": 66,
   "id": "84e9d013-e649-4508-87c4-b0cc09df6fb9",
   "metadata": {},
   "outputs": [],
   "source": [
    "def get_Q(x, poly_deg):\n",
    "    # X = x[:, np.newaxis]\n",
    "    from sklearn.preprocessing import PolynomialFeatures\n",
    "    poly_reg = PolynomialFeatures(degree=poly_deg)\n",
    "    return poly_reg.fit_transform(X)"
   ]
  },
  {
   "cell_type": "code",
   "execution_count": 67,
   "id": "d8883ed8-e776-41dd-a5ed-b00ae7d5bd0e",
   "metadata": {},
   "outputs": [],
   "source": [
    "Y = np.dot(get_weights(X, y, n), get_Q(X, n).T)"
   ]
  },
  {
   "cell_type": "code",
   "execution_count": 69,
   "id": "3cc6ee62-77f7-44c4-995e-ed827863ec98",
   "metadata": {},
   "outputs": [
    {
     "data": {
      "text/plain": [
       "0.9729198291271373"
      ]
     },
     "execution_count": 69,
     "metadata": {},
     "output_type": "execute_result"
    }
   ],
   "source": [
    "get_det_coeff(y, Y)"
   ]
  },
  {
   "cell_type": "markdown",
   "id": "bd245c18-40f1-46b9-81ac-6ceb3982f83c",
   "metadata": {},
   "source": [
    "### 5. Попытайтесь предсказать [Perfomance index](https://www.kaggle.com/datasets/nikhil7280/student-performance-multiple-linear-regression) студентов используя вашу собственную и встроенные модели с различными базисами."
   ]
  },
  {
   "cell_type": "code",
   "execution_count": 70,
   "id": "667d041a-8672-4409-add9-51a4d1628cfc",
   "metadata": {},
   "outputs": [
    {
     "data": {
      "text/html": [
       "<div>\n",
       "<style scoped>\n",
       "    .dataframe tbody tr th:only-of-type {\n",
       "        vertical-align: middle;\n",
       "    }\n",
       "\n",
       "    .dataframe tbody tr th {\n",
       "        vertical-align: top;\n",
       "    }\n",
       "\n",
       "    .dataframe thead th {\n",
       "        text-align: right;\n",
       "    }\n",
       "</style>\n",
       "<table border=\"1\" class=\"dataframe\">\n",
       "  <thead>\n",
       "    <tr style=\"text-align: right;\">\n",
       "      <th></th>\n",
       "      <th>Hours Studied</th>\n",
       "      <th>Previous Scores</th>\n",
       "      <th>Extracurricular Activities</th>\n",
       "      <th>Sleep Hours</th>\n",
       "      <th>Sample Question Papers Practiced</th>\n",
       "      <th>Performance Index</th>\n",
       "    </tr>\n",
       "  </thead>\n",
       "  <tbody>\n",
       "    <tr>\n",
       "      <th>0</th>\n",
       "      <td>7</td>\n",
       "      <td>99</td>\n",
       "      <td>Yes</td>\n",
       "      <td>9</td>\n",
       "      <td>1</td>\n",
       "      <td>91.0</td>\n",
       "    </tr>\n",
       "    <tr>\n",
       "      <th>1</th>\n",
       "      <td>4</td>\n",
       "      <td>82</td>\n",
       "      <td>No</td>\n",
       "      <td>4</td>\n",
       "      <td>2</td>\n",
       "      <td>65.0</td>\n",
       "    </tr>\n",
       "    <tr>\n",
       "      <th>2</th>\n",
       "      <td>8</td>\n",
       "      <td>51</td>\n",
       "      <td>Yes</td>\n",
       "      <td>7</td>\n",
       "      <td>2</td>\n",
       "      <td>45.0</td>\n",
       "    </tr>\n",
       "    <tr>\n",
       "      <th>3</th>\n",
       "      <td>5</td>\n",
       "      <td>52</td>\n",
       "      <td>Yes</td>\n",
       "      <td>5</td>\n",
       "      <td>2</td>\n",
       "      <td>36.0</td>\n",
       "    </tr>\n",
       "    <tr>\n",
       "      <th>4</th>\n",
       "      <td>7</td>\n",
       "      <td>75</td>\n",
       "      <td>No</td>\n",
       "      <td>8</td>\n",
       "      <td>5</td>\n",
       "      <td>66.0</td>\n",
       "    </tr>\n",
       "  </tbody>\n",
       "</table>\n",
       "</div>"
      ],
      "text/plain": [
       "   Hours Studied  Previous Scores Extracurricular Activities  Sleep Hours  \\\n",
       "0              7               99                        Yes            9   \n",
       "1              4               82                         No            4   \n",
       "2              8               51                        Yes            7   \n",
       "3              5               52                        Yes            5   \n",
       "4              7               75                         No            8   \n",
       "\n",
       "   Sample Question Papers Practiced  Performance Index  \n",
       "0                                 1               91.0  \n",
       "1                                 2               65.0  \n",
       "2                                 2               45.0  \n",
       "3                                 2               36.0  \n",
       "4                                 5               66.0  "
      ]
     },
     "execution_count": 70,
     "metadata": {},
     "output_type": "execute_result"
    }
   ],
   "source": [
    "dataframe = pd.read_csv(\"Student_Performance.csv\") # загружаем данные\n",
    "dataframe.head()"
   ]
  },
  {
   "cell_type": "code",
   "execution_count": 71,
   "id": "c696fa1d-3c39-4804-b03b-843e0c7cf618",
   "metadata": {},
   "outputs": [],
   "source": [
    "X = dataframe.drop([\"Extracurricular Activities\",\"Performance Index\"], axis=1).values # выбираем то, что будет фичами\n",
    "y = dataframe[\"Performance Index\"].values # вес будем предсказывать\n",
    "n = 3"
   ]
  },
  {
   "cell_type": "code",
   "execution_count": 72,
   "id": "ee79c866-a406-4855-bab3-5ef7a8047d9e",
   "metadata": {},
   "outputs": [],
   "source": [
    "X;"
   ]
  },
  {
   "cell_type": "code",
   "execution_count": 73,
   "id": "78478e19-e776-487d-8213-834c811225cb",
   "metadata": {},
   "outputs": [],
   "source": [
    "y;"
   ]
  },
  {
   "cell_type": "code",
   "execution_count": 74,
   "id": "a52422ad-68d1-44aa-9055-53af57bf76d4",
   "metadata": {},
   "outputs": [
    {
     "data": {
      "text/html": [
       "<style>#sk-container-id-3 {color: black;}#sk-container-id-3 pre{padding: 0;}#sk-container-id-3 div.sk-toggleable {background-color: white;}#sk-container-id-3 label.sk-toggleable__label {cursor: pointer;display: block;width: 100%;margin-bottom: 0;padding: 0.3em;box-sizing: border-box;text-align: center;}#sk-container-id-3 label.sk-toggleable__label-arrow:before {content: \"▸\";float: left;margin-right: 0.25em;color: #696969;}#sk-container-id-3 label.sk-toggleable__label-arrow:hover:before {color: black;}#sk-container-id-3 div.sk-estimator:hover label.sk-toggleable__label-arrow:before {color: black;}#sk-container-id-3 div.sk-toggleable__content {max-height: 0;max-width: 0;overflow: hidden;text-align: left;background-color: #f0f8ff;}#sk-container-id-3 div.sk-toggleable__content pre {margin: 0.2em;color: black;border-radius: 0.25em;background-color: #f0f8ff;}#sk-container-id-3 input.sk-toggleable__control:checked~div.sk-toggleable__content {max-height: 200px;max-width: 100%;overflow: auto;}#sk-container-id-3 input.sk-toggleable__control:checked~label.sk-toggleable__label-arrow:before {content: \"▾\";}#sk-container-id-3 div.sk-estimator input.sk-toggleable__control:checked~label.sk-toggleable__label {background-color: #d4ebff;}#sk-container-id-3 div.sk-label input.sk-toggleable__control:checked~label.sk-toggleable__label {background-color: #d4ebff;}#sk-container-id-3 input.sk-hidden--visually {border: 0;clip: rect(1px 1px 1px 1px);clip: rect(1px, 1px, 1px, 1px);height: 1px;margin: -1px;overflow: hidden;padding: 0;position: absolute;width: 1px;}#sk-container-id-3 div.sk-estimator {font-family: monospace;background-color: #f0f8ff;border: 1px dotted black;border-radius: 0.25em;box-sizing: border-box;margin-bottom: 0.5em;}#sk-container-id-3 div.sk-estimator:hover {background-color: #d4ebff;}#sk-container-id-3 div.sk-parallel-item::after {content: \"\";width: 100%;border-bottom: 1px solid gray;flex-grow: 1;}#sk-container-id-3 div.sk-label:hover label.sk-toggleable__label {background-color: #d4ebff;}#sk-container-id-3 div.sk-serial::before {content: \"\";position: absolute;border-left: 1px solid gray;box-sizing: border-box;top: 0;bottom: 0;left: 50%;z-index: 0;}#sk-container-id-3 div.sk-serial {display: flex;flex-direction: column;align-items: center;background-color: white;padding-right: 0.2em;padding-left: 0.2em;position: relative;}#sk-container-id-3 div.sk-item {position: relative;z-index: 1;}#sk-container-id-3 div.sk-parallel {display: flex;align-items: stretch;justify-content: center;background-color: white;position: relative;}#sk-container-id-3 div.sk-item::before, #sk-container-id-3 div.sk-parallel-item::before {content: \"\";position: absolute;border-left: 1px solid gray;box-sizing: border-box;top: 0;bottom: 0;left: 50%;z-index: -1;}#sk-container-id-3 div.sk-parallel-item {display: flex;flex-direction: column;z-index: 1;position: relative;background-color: white;}#sk-container-id-3 div.sk-parallel-item:first-child::after {align-self: flex-end;width: 50%;}#sk-container-id-3 div.sk-parallel-item:last-child::after {align-self: flex-start;width: 50%;}#sk-container-id-3 div.sk-parallel-item:only-child::after {width: 0;}#sk-container-id-3 div.sk-dashed-wrapped {border: 1px dashed gray;margin: 0 0.4em 0.5em 0.4em;box-sizing: border-box;padding-bottom: 0.4em;background-color: white;}#sk-container-id-3 div.sk-label label {font-family: monospace;font-weight: bold;display: inline-block;line-height: 1.2em;}#sk-container-id-3 div.sk-label-container {text-align: center;}#sk-container-id-3 div.sk-container {/* jupyter's `normalize.less` sets `[hidden] { display: none; }` but bootstrap.min.css set `[hidden] { display: none !important; }` so we also need the `!important` here to be able to override the default hidden behavior on the sphinx rendered scikit-learn.org. See: https://github.com/scikit-learn/scikit-learn/issues/21755 */display: inline-block !important;position: relative;}#sk-container-id-3 div.sk-text-repr-fallback {display: none;}</style><div id=\"sk-container-id-3\" class=\"sk-top-container\"><div class=\"sk-text-repr-fallback\"><pre>LinearRegression()</pre><b>In a Jupyter environment, please rerun this cell to show the HTML representation or trust the notebook. <br />On GitHub, the HTML representation is unable to render, please try loading this page with nbviewer.org.</b></div><div class=\"sk-container\" hidden><div class=\"sk-item\"><div class=\"sk-estimator sk-toggleable\"><input class=\"sk-toggleable__control sk-hidden--visually\" id=\"sk-estimator-id-3\" type=\"checkbox\" checked><label for=\"sk-estimator-id-3\" class=\"sk-toggleable__label sk-toggleable__label-arrow\">LinearRegression</label><div class=\"sk-toggleable__content\"><pre>LinearRegression()</pre></div></div></div></div></div>"
      ],
      "text/plain": [
       "LinearRegression()"
      ]
     },
     "execution_count": 74,
     "metadata": {},
     "output_type": "execute_result"
    }
   ],
   "source": [
    "model = LinearRegression(fit_intercept=True) # модель регрессии по умолчанию будет использовать стандартный базис\n",
    "model"
   ]
  },
  {
   "cell_type": "code",
   "execution_count": 75,
   "id": "da52551c-a97d-4580-b41c-b88c54bd698f",
   "metadata": {},
   "outputs": [
    {
     "data": {
      "text/html": [
       "<style>#sk-container-id-4 {color: black;}#sk-container-id-4 pre{padding: 0;}#sk-container-id-4 div.sk-toggleable {background-color: white;}#sk-container-id-4 label.sk-toggleable__label {cursor: pointer;display: block;width: 100%;margin-bottom: 0;padding: 0.3em;box-sizing: border-box;text-align: center;}#sk-container-id-4 label.sk-toggleable__label-arrow:before {content: \"▸\";float: left;margin-right: 0.25em;color: #696969;}#sk-container-id-4 label.sk-toggleable__label-arrow:hover:before {color: black;}#sk-container-id-4 div.sk-estimator:hover label.sk-toggleable__label-arrow:before {color: black;}#sk-container-id-4 div.sk-toggleable__content {max-height: 0;max-width: 0;overflow: hidden;text-align: left;background-color: #f0f8ff;}#sk-container-id-4 div.sk-toggleable__content pre {margin: 0.2em;color: black;border-radius: 0.25em;background-color: #f0f8ff;}#sk-container-id-4 input.sk-toggleable__control:checked~div.sk-toggleable__content {max-height: 200px;max-width: 100%;overflow: auto;}#sk-container-id-4 input.sk-toggleable__control:checked~label.sk-toggleable__label-arrow:before {content: \"▾\";}#sk-container-id-4 div.sk-estimator input.sk-toggleable__control:checked~label.sk-toggleable__label {background-color: #d4ebff;}#sk-container-id-4 div.sk-label input.sk-toggleable__control:checked~label.sk-toggleable__label {background-color: #d4ebff;}#sk-container-id-4 input.sk-hidden--visually {border: 0;clip: rect(1px 1px 1px 1px);clip: rect(1px, 1px, 1px, 1px);height: 1px;margin: -1px;overflow: hidden;padding: 0;position: absolute;width: 1px;}#sk-container-id-4 div.sk-estimator {font-family: monospace;background-color: #f0f8ff;border: 1px dotted black;border-radius: 0.25em;box-sizing: border-box;margin-bottom: 0.5em;}#sk-container-id-4 div.sk-estimator:hover {background-color: #d4ebff;}#sk-container-id-4 div.sk-parallel-item::after {content: \"\";width: 100%;border-bottom: 1px solid gray;flex-grow: 1;}#sk-container-id-4 div.sk-label:hover label.sk-toggleable__label {background-color: #d4ebff;}#sk-container-id-4 div.sk-serial::before {content: \"\";position: absolute;border-left: 1px solid gray;box-sizing: border-box;top: 0;bottom: 0;left: 50%;z-index: 0;}#sk-container-id-4 div.sk-serial {display: flex;flex-direction: column;align-items: center;background-color: white;padding-right: 0.2em;padding-left: 0.2em;position: relative;}#sk-container-id-4 div.sk-item {position: relative;z-index: 1;}#sk-container-id-4 div.sk-parallel {display: flex;align-items: stretch;justify-content: center;background-color: white;position: relative;}#sk-container-id-4 div.sk-item::before, #sk-container-id-4 div.sk-parallel-item::before {content: \"\";position: absolute;border-left: 1px solid gray;box-sizing: border-box;top: 0;bottom: 0;left: 50%;z-index: -1;}#sk-container-id-4 div.sk-parallel-item {display: flex;flex-direction: column;z-index: 1;position: relative;background-color: white;}#sk-container-id-4 div.sk-parallel-item:first-child::after {align-self: flex-end;width: 50%;}#sk-container-id-4 div.sk-parallel-item:last-child::after {align-self: flex-start;width: 50%;}#sk-container-id-4 div.sk-parallel-item:only-child::after {width: 0;}#sk-container-id-4 div.sk-dashed-wrapped {border: 1px dashed gray;margin: 0 0.4em 0.5em 0.4em;box-sizing: border-box;padding-bottom: 0.4em;background-color: white;}#sk-container-id-4 div.sk-label label {font-family: monospace;font-weight: bold;display: inline-block;line-height: 1.2em;}#sk-container-id-4 div.sk-label-container {text-align: center;}#sk-container-id-4 div.sk-container {/* jupyter's `normalize.less` sets `[hidden] { display: none; }` but bootstrap.min.css set `[hidden] { display: none !important; }` so we also need the `!important` here to be able to override the default hidden behavior on the sphinx rendered scikit-learn.org. See: https://github.com/scikit-learn/scikit-learn/issues/21755 */display: inline-block !important;position: relative;}#sk-container-id-4 div.sk-text-repr-fallback {display: none;}</style><div id=\"sk-container-id-4\" class=\"sk-top-container\"><div class=\"sk-text-repr-fallback\"><pre>LinearRegression()</pre><b>In a Jupyter environment, please rerun this cell to show the HTML representation or trust the notebook. <br />On GitHub, the HTML representation is unable to render, please try loading this page with nbviewer.org.</b></div><div class=\"sk-container\" hidden><div class=\"sk-item\"><div class=\"sk-estimator sk-toggleable\"><input class=\"sk-toggleable__control sk-hidden--visually\" id=\"sk-estimator-id-4\" type=\"checkbox\" checked><label for=\"sk-estimator-id-4\" class=\"sk-toggleable__label sk-toggleable__label-arrow\">LinearRegression</label><div class=\"sk-toggleable__content\"><pre>LinearRegression()</pre></div></div></div></div></div>"
      ],
      "text/plain": [
       "LinearRegression()"
      ]
     },
     "execution_count": 75,
     "metadata": {},
     "output_type": "execute_result"
    }
   ],
   "source": [
    "model.fit(X, y)"
   ]
  },
  {
   "cell_type": "code",
   "execution_count": 76,
   "id": "f404324c-ee67-424f-b673-04d684bf965b",
   "metadata": {},
   "outputs": [
    {
     "data": {
      "text/plain": [
       "0.9884981216772581"
      ]
     },
     "execution_count": 76,
     "metadata": {},
     "output_type": "execute_result"
    }
   ],
   "source": [
    "model.score(X,y)"
   ]
  },
  {
   "cell_type": "code",
   "execution_count": 77,
   "id": "89f212e6-9aea-4323-b053-efa4cbe9db82",
   "metadata": {},
   "outputs": [],
   "source": [
    "def get_Q(x, poly_deg):\n",
    "    # X = x[:, np.newaxis]\n",
    "    from sklearn.preprocessing import PolynomialFeatures\n",
    "    poly_reg = PolynomialFeatures(degree=poly_deg)\n",
    "    return poly_reg.fit_transform(X)"
   ]
  },
  {
   "cell_type": "code",
   "execution_count": 78,
   "id": "5639de2d-909c-4b47-9eb2-dc5bca4b5844",
   "metadata": {},
   "outputs": [],
   "source": [
    "Y = np.dot(get_weights(X, y, n), get_Q(X, n).T)"
   ]
  },
  {
   "cell_type": "code",
   "execution_count": 79,
   "id": "148f7994-633d-491d-bebb-aee507fc6048",
   "metadata": {},
   "outputs": [
    {
     "data": {
      "text/plain": [
       "0.9885476999953138"
      ]
     },
     "execution_count": 79,
     "metadata": {},
     "output_type": "execute_result"
    }
   ],
   "source": [
    "get_det_coeff(y, Y)"
   ]
  },
  {
   "cell_type": "markdown",
   "id": "ee034118-9865-48e9-920f-fff3b340eaf3",
   "metadata": {},
   "source": [
    "### 6. Подумайте, как повлияет на модель использование слишком большого количества базисных фич."
   ]
  },
  {
   "cell_type": "markdown",
   "id": "45e4e3a5-f964-4faf-bfc2-289d5d58d462",
   "metadata": {},
   "source": [
    "Все сломается."
   ]
  },
  {
   "cell_type": "markdown",
   "id": "a7259802-2942-4c6b-8d34-ed483a289ac2",
   "metadata": {},
   "source": [
    "### 7. В примере выше мы тестируем полученную модель на тех же данных, что и обучаем. В целом это не очень хорошо. Разделите изначальные данные на обучающую и тестовую выборку и повторите вычисления точности."
   ]
  },
  {
   "cell_type": "code",
   "execution_count": 51,
   "id": "ef03aec6-80f8-4ecf-b71a-9b1ba075bbb8",
   "metadata": {},
   "outputs": [],
   "source": [
    "rng = np.random.RandomState(1) # задаём искусственные данные\n",
    "n = 4"
   ]
  },
  {
   "cell_type": "code",
   "execution_count": 2,
   "id": "faaa7786-11a4-4245-9d94-43165cdcf7b4",
   "metadata": {},
   "outputs": [],
   "source": [
    "from sklearn.model_selection import train_test_split"
   ]
  },
  {
   "cell_type": "code",
   "execution_count": 82,
   "id": "09aea4c7-7403-491e-b8c7-689bf66be4f7",
   "metadata": {},
   "outputs": [],
   "source": [
    "x = 10 * rng.rand(50)\n",
    "x_train, x_test = train_test_split(x)"
   ]
  },
  {
   "cell_type": "code",
   "execution_count": 83,
   "id": "2f0d001a-f236-449a-a980-0e36154ba894",
   "metadata": {},
   "outputs": [],
   "source": [
    "shape1, shape2 = x_train.shape[0], x_test.shape[0]\n",
    "y_train = np.sin(x_train) + 0.1 * rng.randn(shape1)\n",
    "y_test = np.sin(x_test) + 0.1 * rng.randn(shape2)"
   ]
  },
  {
   "cell_type": "code",
   "execution_count": 84,
   "id": "44f0728c-9d5f-4734-ae03-17185062db74",
   "metadata": {},
   "outputs": [
    {
     "data": {
      "text/plain": [
       "<matplotlib.collections.PathCollection at 0x1fe02949e10>"
      ]
     },
     "execution_count": 84,
     "metadata": {},
     "output_type": "execute_result"
    },
    {
     "data": {
      "image/png": "[encoded data removed]",
      "text/plain": [
       "<Figure size 640x480 with 1 Axes>"
      ]
     },
     "metadata": {},
     "output_type": "display_data"
    }
   ],
   "source": [
    "plt.scatter(x_train, y_train)\n",
    "plt.scatter(x_test, y_test)"
   ]
  },
  {
   "cell_type": "code",
   "execution_count": 85,
   "id": "20047410-8dd8-4e8a-a36d-88c74b51bc48",
   "metadata": {},
   "outputs": [],
   "source": [
    "def get_Q(x, poly_deg):\n",
    "    X = x[:, np.newaxis]\n",
    "    from sklearn.preprocessing import PolynomialFeatures\n",
    "    poly_reg = PolynomialFeatures(degree=4)\n",
    "    return poly_reg.fit_transform(X)"
   ]
  },
  {
   "cell_type": "code",
   "execution_count": 86,
   "id": "2b04eff7-b399-45a7-babb-13975fe1b4dd",
   "metadata": {},
   "outputs": [],
   "source": [
    "w = get_weights(x_train, y_train, n)"
   ]
  },
  {
   "cell_type": "code",
   "execution_count": 87,
   "id": "325d0160-3513-4e14-93f7-0b13c5d05fd1",
   "metadata": {},
   "outputs": [],
   "source": [
    "Y_train_predicted = np.dot(get_weights(x_train, y_train, n), get_Q(x_test, n).T)"
   ]
  },
  {
   "cell_type": "code",
   "execution_count": 88,
   "id": "62c149b4-5e60-46b7-8c22-25aa88331d38",
   "metadata": {},
   "outputs": [
    {
     "data": {
      "text/plain": [
       "(13,)"
      ]
     },
     "execution_count": 88,
     "metadata": {},
     "output_type": "execute_result"
    }
   ],
   "source": [
    "Y_train_predicted.shape"
   ]
  },
  {
   "cell_type": "code",
   "execution_count": 89,
   "id": "831e38c6-01ce-4cfb-977c-9ade6561b1a4",
   "metadata": {},
   "outputs": [
    {
     "data": {
      "text/plain": [
       "(37,)"
      ]
     },
     "execution_count": 89,
     "metadata": {},
     "output_type": "execute_result"
    }
   ],
   "source": [
    "x_train.shape"
   ]
  },
  {
   "cell_type": "code",
   "execution_count": 90,
   "id": "6842753e-715d-417a-8893-baf4c3139330",
   "metadata": {},
   "outputs": [
    {
     "data": {
      "text/plain": [
       "<matplotlib.collections.PathCollection at 0x1fe029bca10>"
      ]
     },
     "execution_count": 90,
     "metadata": {},
     "output_type": "execute_result"
    },
    {
     "data": {
      "image/png": "[encoded data removed]",
      "text/plain": [
       "<Figure size 640x480 with 1 Axes>"
      ]
     },
     "metadata": {},
     "output_type": "display_data"
    }
   ],
   "source": [
    "plt.scatter(x_train, y_train)\n",
    "plt.scatter(x_test, Y_train_predicted)"
   ]
  },
  {
   "cell_type": "code",
   "execution_count": 11,
   "id": "9b775a2c-7c1a-42ab-9bd5-948757002531",
   "metadata": {},
   "outputs": [
    {
     "data": {
      "text/html": [
       "<div>\n",
       "<style scoped>\n",
       "    .dataframe tbody tr th:only-of-type {\n",
       "        vertical-align: middle;\n",
       "    }\n",
       "\n",
       "    .dataframe tbody tr th {\n",
       "        vertical-align: top;\n",
       "    }\n",
       "\n",
       "    .dataframe thead th {\n",
       "        text-align: right;\n",
       "    }\n",
       "</style>\n",
       "<table border=\"1\" class=\"dataframe\">\n",
       "  <thead>\n",
       "    <tr style=\"text-align: right;\">\n",
       "      <th></th>\n",
       "      <th>Species</th>\n",
       "      <th>Weight</th>\n",
       "      <th>Length1</th>\n",
       "      <th>Length2</th>\n",
       "      <th>Length3</th>\n",
       "      <th>Height</th>\n",
       "      <th>Width</th>\n",
       "    </tr>\n",
       "  </thead>\n",
       "  <tbody>\n",
       "    <tr>\n",
       "      <th>0</th>\n",
       "      <td>Bream</td>\n",
       "      <td>242.0</td>\n",
       "      <td>23.2</td>\n",
       "      <td>25.4</td>\n",
       "      <td>30.0</td>\n",
       "      <td>11.5200</td>\n",
       "      <td>4.0200</td>\n",
       "    </tr>\n",
       "    <tr>\n",
       "      <th>1</th>\n",
       "      <td>Bream</td>\n",
       "      <td>290.0</td>\n",
       "      <td>24.0</td>\n",
       "      <td>26.3</td>\n",
       "      <td>31.2</td>\n",
       "      <td>12.4800</td>\n",
       "      <td>4.3056</td>\n",
       "    </tr>\n",
       "    <tr>\n",
       "      <th>2</th>\n",
       "      <td>Bream</td>\n",
       "      <td>340.0</td>\n",
       "      <td>23.9</td>\n",
       "      <td>26.5</td>\n",
       "      <td>31.1</td>\n",
       "      <td>12.3778</td>\n",
       "      <td>4.6961</td>\n",
       "    </tr>\n",
       "    <tr>\n",
       "      <th>3</th>\n",
       "      <td>Bream</td>\n",
       "      <td>363.0</td>\n",
       "      <td>26.3</td>\n",
       "      <td>29.0</td>\n",
       "      <td>33.5</td>\n",
       "      <td>12.7300</td>\n",
       "      <td>4.4555</td>\n",
       "    </tr>\n",
       "    <tr>\n",
       "      <th>4</th>\n",
       "      <td>Bream</td>\n",
       "      <td>430.0</td>\n",
       "      <td>26.5</td>\n",
       "      <td>29.0</td>\n",
       "      <td>34.0</td>\n",
       "      <td>12.4440</td>\n",
       "      <td>5.1340</td>\n",
       "    </tr>\n",
       "  </tbody>\n",
       "</table>\n",
       "</div>"
      ],
      "text/plain": [
       "  Species  Weight  Length1  Length2  Length3   Height   Width\n",
       "0   Bream   242.0     23.2     25.4     30.0  11.5200  4.0200\n",
       "1   Bream   290.0     24.0     26.3     31.2  12.4800  4.3056\n",
       "2   Bream   340.0     23.9     26.5     31.1  12.3778  4.6961\n",
       "3   Bream   363.0     26.3     29.0     33.5  12.7300  4.4555\n",
       "4   Bream   430.0     26.5     29.0     34.0  12.4440  5.1340"
      ]
     },
     "execution_count": 11,
     "metadata": {},
     "output_type": "execute_result"
    }
   ],
   "source": [
    "dataframe = pd.read_csv(\"Fish.csv\") # загружаем данные\n",
    "dataframe.head()"
   ]
  },
  {
   "cell_type": "code",
   "execution_count": 66,
   "id": "01245e59-0f18-4914-8b29-6d108800aed2",
   "metadata": {},
   "outputs": [],
   "source": [
    "X = dataframe.drop([\"Species\",\"Weight\"], axis=1).values # выбираем то, что будет фичами\n",
    "y = dataframe[\"Weight\"].values # вес будем предсказывать\n",
    "n = 4"
   ]
  },
  {
   "cell_type": "code",
   "execution_count": 67,
   "id": "18fffaf3-d27a-4ac2-ae5e-58752d329335",
   "metadata": {},
   "outputs": [],
   "source": [
    "x_train, x_test, y_train, y_test = train_test_split(X, y, test_size=0.2)"
   ]
  },
  {
   "cell_type": "code",
   "execution_count": 68,
   "id": "e3d72754-64c8-44d6-8b02-334ae21c2728",
   "metadata": {},
   "outputs": [
    {
     "data": {
      "text/plain": [
       "((127, 5), (127,), (32, 5), (32,))"
      ]
     },
     "execution_count": 68,
     "metadata": {},
     "output_type": "execute_result"
    }
   ],
   "source": [
    "x_train.shape, y_train.shape, x_test.shape, y_test.shape"
   ]
  },
  {
   "cell_type": "code",
   "execution_count": 69,
   "id": "adfdf7b0-54f5-4258-830a-01fcf0fefe6c",
   "metadata": {},
   "outputs": [],
   "source": [
    "def get_Q(x, poly_deg):\n",
    "    # X = x[:, np.newaxis]\n",
    "    from sklearn.preprocessing import PolynomialFeatures\n",
    "    poly_reg = PolynomialFeatures(degree=poly_deg)\n",
    "    return poly_reg.fit_transform(X)"
   ]
  },
  {
   "cell_type": "code",
   "execution_count": 74,
   "id": "f754dbc3-d240-454a-9886-911700710d83",
   "metadata": {},
   "outputs": [
    {
     "ename": "ValueError",
     "evalue": "matmul: Input operand 1 has a mismatch in its core dimension 0, with gufunc signature (n?,k),(k,m?)->(n?,m?) (size 127 is different from 159)",
     "output_type": "error",
     "traceback": [
      "\u001b[1;31m---------------------------------------------------------------------------\u001b[0m",
      "\u001b[1;31mValueError\u001b[0m                                Traceback (most recent call last)",
      "Cell \u001b[1;32mIn[74], line 3\u001b[0m\n\u001b[0;32m      1\u001b[0m Q_old \u001b[38;5;241m=\u001b[39m get_Q(x_train, n)\n\u001b[0;32m      2\u001b[0m np\u001b[38;5;241m.\u001b[39mdot(Q_old\u001b[38;5;241m.\u001b[39mT, Q_old)\n\u001b[1;32m----> 3\u001b[0m \u001b[43m(\u001b[49m\u001b[43mnp\u001b[49m\u001b[38;5;241;43m.\u001b[39;49m\u001b[43mlinalg\u001b[49m\u001b[38;5;241;43m.\u001b[39;49m\u001b[43minv\u001b[49m\u001b[43m(\u001b[49m\u001b[43mnp\u001b[49m\u001b[38;5;241;43m.\u001b[39;49m\u001b[43mdot\u001b[49m\u001b[43m(\u001b[49m\u001b[43mQ_old\u001b[49m\u001b[38;5;241;43m.\u001b[39;49m\u001b[43mT\u001b[49m\u001b[43m,\u001b[49m\u001b[43m \u001b[49m\u001b[43mQ_old\u001b[49m\u001b[43m)\u001b[49m\u001b[43m)\u001b[49m\u001b[43m \u001b[49m\u001b[38;5;241;43m@\u001b[39;49m\u001b[43m \u001b[49m\u001b[43mQ_old\u001b[49m\u001b[38;5;241;43m.\u001b[39;49m\u001b[43mT\u001b[49m\u001b[43m)\u001b[49m\u001b[43m \u001b[49m\u001b[38;5;241;43m@\u001b[39;49m\u001b[43m \u001b[49m\u001b[43my_train\u001b[49m\n",
      "\u001b[1;31mValueError\u001b[0m: matmul: Input operand 1 has a mismatch in its core dimension 0, with gufunc signature (n?,k),(k,m?)->(n?,m?) (size 127 is different from 159)"
     ]
    }
   ],
   "source": [
    "Q_old = get_Q(x_train, n)\n",
    "np.dot(Q_old.T, Q_old)\n",
    "(np.linalg.inv(np.dot(Q_old.T, Q_old)) @ Q_old.T) @ y_train"
   ]
  },
  {
   "cell_type": "code",
   "execution_count": 72,
   "id": "1b3737b9-c8b8-4ca7-87b3-3af7de9ba13c",
   "metadata": {},
   "outputs": [
    {
     "data": {
      "text/plain": [
       "(127,)"
      ]
     },
     "execution_count": 72,
     "metadata": {},
     "output_type": "execute_result"
    }
   ],
   "source": [
    "y_train.shape"
   ]
  },
  {
   "cell_type": "code",
   "execution_count": 53,
   "id": "ddc34dbb-a0bf-41d5-ab44-cdae251a4e37",
   "metadata": {},
   "outputs": [],
   "source": [
    "def get_weights(x, y, poly_deg):\n",
    "    Q = get_Q(x, poly_deg)\n",
    "    return np.dot(np.dot(np.linalg.inv(np.dot(Q.T, Q)), Q.T), y)"
   ]
  },
  {
   "cell_type": "code",
   "execution_count": null,
   "id": "86569171-5fed-43f8-b462-fa901f90ba76",
   "metadata": {},
   "outputs": [],
   "source": []
  },
  {
   "cell_type": "code",
   "execution_count": 54,
   "id": "4a6196f9-d1fd-4ddc-a312-f6f152f42f25",
   "metadata": {},
   "outputs": [
    {
     "ename": "ValueError",
     "evalue": "shapes (126,159) and (127,1,1) not aligned: 159 (dim 1) != 1 (dim 1)",
     "output_type": "error",
     "traceback": [
      "\u001b[1;31m---------------------------------------------------------------------------\u001b[0m",
      "\u001b[1;31mValueError\u001b[0m                                Traceback (most recent call last)",
      "Cell \u001b[1;32mIn[54], line 1\u001b[0m\n\u001b[1;32m----> 1\u001b[0m W \u001b[38;5;241m=\u001b[39m \u001b[43mget_weights\u001b[49m\u001b[43m(\u001b[49m\u001b[43mx_train\u001b[49m\u001b[43m,\u001b[49m\u001b[43m \u001b[49m\u001b[43my_train\u001b[49m\u001b[43m,\u001b[49m\u001b[43m \u001b[49m\u001b[43mn\u001b[49m\u001b[43m)\u001b[49m\n",
      "Cell \u001b[1;32mIn[53], line 3\u001b[0m, in \u001b[0;36mget_weights\u001b[1;34m(x, y, poly_deg)\u001b[0m\n\u001b[0;32m      1\u001b[0m \u001b[38;5;28;01mdef\u001b[39;00m \u001b[38;5;21mget_weights\u001b[39m(x, y, poly_deg):\n\u001b[0;32m      2\u001b[0m     Q \u001b[38;5;241m=\u001b[39m get_Q(x, poly_deg)\n\u001b[1;32m----> 3\u001b[0m     \u001b[38;5;28;01mreturn\u001b[39;00m \u001b[43mnp\u001b[49m\u001b[38;5;241;43m.\u001b[39;49m\u001b[43mdot\u001b[49m\u001b[43m(\u001b[49m\u001b[43mnp\u001b[49m\u001b[38;5;241;43m.\u001b[39;49m\u001b[43mdot\u001b[49m\u001b[43m(\u001b[49m\u001b[43mnp\u001b[49m\u001b[38;5;241;43m.\u001b[39;49m\u001b[43mlinalg\u001b[49m\u001b[38;5;241;43m.\u001b[39;49m\u001b[43minv\u001b[49m\u001b[43m(\u001b[49m\u001b[43mnp\u001b[49m\u001b[38;5;241;43m.\u001b[39;49m\u001b[43mdot\u001b[49m\u001b[43m(\u001b[49m\u001b[43mQ\u001b[49m\u001b[38;5;241;43m.\u001b[39;49m\u001b[43mT\u001b[49m\u001b[43m,\u001b[49m\u001b[43m \u001b[49m\u001b[43mQ\u001b[49m\u001b[43m)\u001b[49m\u001b[43m)\u001b[49m\u001b[43m,\u001b[49m\u001b[43m \u001b[49m\u001b[43mQ\u001b[49m\u001b[38;5;241;43m.\u001b[39;49m\u001b[43mT\u001b[49m\u001b[43m)\u001b[49m\u001b[43m,\u001b[49m\u001b[43m \u001b[49m\u001b[43my\u001b[49m\u001b[43m)\u001b[49m\n",
      "\u001b[1;31mValueError\u001b[0m: shapes (126,159) and (127,1,1) not aligned: 159 (dim 1) != 1 (dim 1)"
     ]
    }
   ],
   "source": [
    "W = get_weights(x_train, y_train, n)"
   ]
  },
  {
   "cell_type": "code",
   "execution_count": 55,
   "id": "e104683d-0a2b-489d-8e2d-cc76849470d5",
   "metadata": {},
   "outputs": [],
   "source": [
    "X_NEW = get_Q(x_test, n)"
   ]
  },
  {
   "cell_type": "code",
   "execution_count": 40,
   "id": "2c4d86e6-c8f6-4c3b-80a1-c15812d7d7f1",
   "metadata": {},
   "outputs": [
    {
     "ename": "NameError",
     "evalue": "name 'W' is not defined",
     "output_type": "error",
     "traceback": [
      "\u001b[1;31m---------------------------------------------------------------------------\u001b[0m",
      "\u001b[1;31mNameError\u001b[0m                                 Traceback (most recent call last)",
      "Cell \u001b[1;32mIn[40], line 1\u001b[0m\n\u001b[1;32m----> 1\u001b[0m Y_predicted \u001b[38;5;241m=\u001b[39m np\u001b[38;5;241m.\u001b[39mdot(\u001b[43mW\u001b[49m, X_NEW\u001b[38;5;241m.\u001b[39mT)\n",
      "\u001b[1;31mNameError\u001b[0m: name 'W' is not defined"
     ]
    }
   ],
   "source": [
    "Y_predicted = np.dot(W, X_NEW.T)"
   ]
  },
  {
   "cell_type": "code",
   "execution_count": 24,
   "id": "43cef1b8-d425-420b-b26a-6e4bb8aa11c5",
   "metadata": {},
   "outputs": [
    {
     "ename": "NameError",
     "evalue": "name 'get_det_coeff' is not defined",
     "output_type": "error",
     "traceback": [
      "\u001b[1;31m---------------------------------------------------------------------------\u001b[0m",
      "\u001b[1;31mNameError\u001b[0m                                 Traceback (most recent call last)",
      "Cell \u001b[1;32mIn[24], line 1\u001b[0m\n\u001b[1;32m----> 1\u001b[0m \u001b[43mget_det_coeff\u001b[49m(y_test, Y_predicted)\n",
      "\u001b[1;31mNameError\u001b[0m: name 'get_det_coeff' is not defined"
     ]
    }
   ],
   "source": [
    "get_det_coeff(y_test, Y_predicted)"
   ]
  },
  {
   "cell_type": "code",
   "execution_count": null,
   "id": "a4f0de94-1c17-4fc7-a5f3-895b20ce7444",
   "metadata": {},
   "outputs": [],
   "source": []
  }
 ],
 "metadata": {
  "kernelspec": {
   "display_name": "Python 3 (ipykernel)",
   "language": "python",
   "name": "python3"
  },
  "language_info": {
   "codemirror_mode": {
    "name": "ipython",
    "version": 3
   },
   "file_extension": ".py",
   "mimetype": "text/x-python",
   "name": "python",
   "nbconvert_exporter": "python",
   "pygments_lexer": "ipython3",
   "version": "3.11.5"
  }
 },
 "nbformat": 4,
 "nbformat_minor": 5
}
