{
 "cells": [
  {
   "cell_type": "markdown",
   "id": "f0f3d229-fdd5-4ffa-8078-c9ebcc0f6b51",
   "metadata": {},
   "source": [
    "# ЛР 1. Введение. Инструменты python для базовых задач МО."
   ]
  },
  {
   "cell_type": "markdown",
   "id": "a01dadd6-c984-4740-a71a-a55d3055951a",
   "metadata": {},
   "source": [
    "# Теория"
   ]
  },
  {
   "cell_type": "markdown",
   "id": "16e53f80-5851-4712-bd80-1036bbe507a6",
   "metadata": {},
   "source": [
    "## Подключаю библиотеки"
   ]
  },
  {
   "cell_type": "code",
   "execution_count": 1,
   "id": "1a4111aa-fdfa-4bdf-adc9-bdfef4fa0ffe",
   "metadata": {},
   "outputs": [],
   "source": [
    "import numpy as np"
   ]
  },
  {
   "cell_type": "code",
   "execution_count": 2,
   "id": "5a3ef15f-2d73-448b-8c58-49b6971cbde3",
   "metadata": {},
   "outputs": [
    {
     "data": {
      "text/plain": [
       "'1.25.2'"
      ]
     },
     "execution_count": 2,
     "metadata": {},
     "output_type": "execute_result"
    }
   ],
   "source": [
    "np.__version__"
   ]
  },
  {
   "cell_type": "markdown",
   "id": "e5898498-f73c-4a0f-a03c-1600ccca53c1",
   "metadata": {},
   "source": [
    "## Математические функции для операций с массивами."
   ]
  },
  {
   "cell_type": "code",
   "execution_count": 3,
   "id": "c2d8fead-0b7e-4c99-a205-9131b02ecc32",
   "metadata": {},
   "outputs": [
    {
     "data": {
      "text/plain": [
       "0.7853981633974483"
      ]
     },
     "execution_count": 3,
     "metadata": {},
     "output_type": "execute_result"
    }
   ],
   "source": [
    "np.arctan(1)"
   ]
  },
  {
   "cell_type": "code",
   "execution_count": 4,
   "id": "ae1e017c-1641-466f-9677-4bf41e3a5aac",
   "metadata": {},
   "outputs": [
    {
     "data": {
      "text/plain": [
       "0.7853981633974483"
      ]
     },
     "execution_count": 4,
     "metadata": {},
     "output_type": "execute_result"
    }
   ],
   "source": [
    "np.pi / 4"
   ]
  },
  {
   "cell_type": "markdown",
   "id": "3f1718ac-f1c3-4b30-b2d2-173fc5fe4b51",
   "metadata": {},
   "source": [
    "## Создаю массивы"
   ]
  },
  {
   "cell_type": "code",
   "execution_count": 5,
   "id": "2f257ee7-9bf3-4213-bcf3-2571a1e1d6ec",
   "metadata": {},
   "outputs": [
    {
     "data": {
      "text/plain": [
       "array([1, 2, 3, 4])"
      ]
     },
     "execution_count": 5,
     "metadata": {},
     "output_type": "execute_result"
    }
   ],
   "source": [
    "np.array([1, 2, 3, 4])"
   ]
  },
  {
   "cell_type": "code",
   "execution_count": 6,
   "id": "dd97397c-2221-4cff-bca7-feb5062e510d",
   "metadata": {},
   "outputs": [
    {
     "data": {
      "text/plain": [
       "array([1., 2., 3., 4.], dtype=float32)"
      ]
     },
     "execution_count": 6,
     "metadata": {},
     "output_type": "execute_result"
    }
   ],
   "source": [
    "a = np.array([1, 2, 3, 4], dtype = 'float32')\n",
    "a"
   ]
  },
  {
   "cell_type": "markdown",
   "id": "8e3aea3b-15e1-4345-80e4-7aaf8ce26fbb",
   "metadata": {},
   "source": [
    "Добавление в конец массива"
   ]
  },
  {
   "cell_type": "code",
   "execution_count": 7,
   "id": "d6b6b126-97bb-4ec1-bace-e16215abcaea",
   "metadata": {},
   "outputs": [
    {
     "data": {
      "text/plain": [
       "array([1., 2., 3., 4., 2.])"
      ]
     },
     "execution_count": 7,
     "metadata": {},
     "output_type": "execute_result"
    }
   ],
   "source": [
    "np.append(a, 2)"
   ]
  },
  {
   "cell_type": "markdown",
   "id": "0c79dac4-cbe0-4d2b-8c93-35f1ea884193",
   "metadata": {},
   "source": [
    "<font color=\"red\"> Важно не забывать присваивать исходному массиву результат работы метода, если массив хочется изменить.<font>"
   ]
  },
  {
   "cell_type": "code",
   "execution_count": 8,
   "id": "fe29da76-8585-4030-bfc8-4752724c1f78",
   "metadata": {},
   "outputs": [
    {
     "data": {
      "text/plain": [
       "array([1., 2., 3., 4.], dtype=float32)"
      ]
     },
     "execution_count": 8,
     "metadata": {},
     "output_type": "execute_result"
    }
   ],
   "source": [
    "a"
   ]
  },
  {
   "cell_type": "code",
   "execution_count": 9,
   "id": "b70ec410-42cb-496c-ae31-a39d04cbd0c6",
   "metadata": {},
   "outputs": [
    {
     "data": {
      "text/plain": [
       "array([[2, 3, 4],\n",
       "       [4, 5, 6],\n",
       "       [6, 7, 8]])"
      ]
     },
     "execution_count": 9,
     "metadata": {},
     "output_type": "execute_result"
    }
   ],
   "source": [
    "np.array([range(i, i + 3) for i in [2, 4, 6]]) #преобразование вложенных данных в массив"
   ]
  },
  {
   "cell_type": "markdown",
   "id": "2600a597-fce4-43c8-a4b4-d2a0aadcb223",
   "metadata": {},
   "source": [
    "Вспоминаю, как работает range."
   ]
  },
  {
   "cell_type": "code",
   "execution_count": 10,
   "id": "a83157c6-f918-4aea-9163-7e331ba9cdd7",
   "metadata": {},
   "outputs": [
    {
     "name": "stdout",
     "output_type": "stream",
     "text": [
      "4\n",
      "5\n",
      "6\n",
      "7\n",
      "8\n",
      "9\n"
     ]
    }
   ],
   "source": [
    "for i in range(4, 10):\n",
    "    print(i)"
   ]
  },
  {
   "cell_type": "markdown",
   "id": "1cbd0c72-5474-472f-9c8d-ccf0083a9ad7",
   "metadata": {},
   "source": [
    "Ну и свой пример."
   ]
  },
  {
   "cell_type": "code",
   "execution_count": 11,
   "id": "580c5f50-740d-461b-bebe-16e6098ea8b0",
   "metadata": {},
   "outputs": [
    {
     "data": {
      "text/plain": [
       "array([0, 1, 2, 3, 4, 5, 6, 7, 8, 9])"
      ]
     },
     "execution_count": 11,
     "metadata": {},
     "output_type": "execute_result"
    }
   ],
   "source": [
    "np.array(range(10))"
   ]
  },
  {
   "cell_type": "markdown",
   "id": "78d33538-682c-4dbc-b77a-3a7a018f8045",
   "metadata": {},
   "source": [
    "Массив из нулей."
   ]
  },
  {
   "cell_type": "code",
   "execution_count": 12,
   "id": "5c7511b0-b3d9-4297-998a-1dced5d3e1ed",
   "metadata": {},
   "outputs": [
    {
     "data": {
      "text/plain": [
       "array([0, 0, 0, 0, 0, 0, 0, 0, 0, 0])"
      ]
     },
     "execution_count": 12,
     "metadata": {},
     "output_type": "execute_result"
    }
   ],
   "source": [
    "np.zeros(10, dtype=int)"
   ]
  },
  {
   "cell_type": "markdown",
   "id": "ee907484-8969-4d48-8aa9-8a40c8529274",
   "metadata": {},
   "source": [
    "По умолчанию не целочисленный тип."
   ]
  },
  {
   "cell_type": "code",
   "execution_count": 13,
   "id": "582f0b08-7390-4e86-acd3-2b3c9e48c882",
   "metadata": {},
   "outputs": [
    {
     "data": {
      "text/plain": [
       "array([0., 0., 0., 0., 0., 0., 0., 0., 0., 0.])"
      ]
     },
     "execution_count": 13,
     "metadata": {},
     "output_type": "execute_result"
    }
   ],
   "source": [
    "np.zeros(10)"
   ]
  },
  {
   "cell_type": "code",
   "execution_count": 14,
   "id": "817dbb37-e7ce-488b-a76c-7d20aa60e2de",
   "metadata": {},
   "outputs": [
    {
     "data": {
      "text/plain": [
       "array([[0, 0, 0],\n",
       "       [0, 0, 0],\n",
       "       [0, 0, 0]])"
      ]
     },
     "execution_count": 14,
     "metadata": {},
     "output_type": "execute_result"
    }
   ],
   "source": [
    "np.zeros((3, 3), dtype=int)"
   ]
  },
  {
   "cell_type": "markdown",
   "id": "61142299-47c4-40e1-a5ea-654d5b01b3cb",
   "metadata": {},
   "source": [
    "Массив из единиц."
   ]
  },
  {
   "cell_type": "code",
   "execution_count": 15,
   "id": "171218f2-a124-4dcc-961a-507d8e7b4bc9",
   "metadata": {},
   "outputs": [
    {
     "data": {
      "text/plain": [
       "array([[1, 1, 1],\n",
       "       [1, 1, 1],\n",
       "       [1, 1, 1]])"
      ]
     },
     "execution_count": 15,
     "metadata": {},
     "output_type": "execute_result"
    }
   ],
   "source": [
    "np.ones((3, 3), dtype=int)"
   ]
  },
  {
   "cell_type": "markdown",
   "id": "44ed4ae0-e1d1-4fa0-b9eb-510cd0f235ae",
   "metadata": {},
   "source": [
    "Заполняю массив."
   ]
  },
  {
   "cell_type": "code",
   "execution_count": 16,
   "id": "8df6b025-ada9-42e8-9818-1bbcb38fb995",
   "metadata": {},
   "outputs": [
    {
     "data": {
      "text/plain": [
       "array([[3.14159265, 3.14159265, 3.14159265],\n",
       "       [3.14159265, 3.14159265, 3.14159265],\n",
       "       [3.14159265, 3.14159265, 3.14159265]])"
      ]
     },
     "execution_count": 16,
     "metadata": {},
     "output_type": "execute_result"
    }
   ],
   "source": [
    "np.full((3, 3), np.pi)"
   ]
  },
  {
   "cell_type": "markdown",
   "id": "7bdb82ef-13c4-4b43-883e-9b8799d80995",
   "metadata": {},
   "source": [
    "Разница между arange и linspace. arange создает массив с использованием шага, который я указываю, при этом количество эдементов я не могу проконтролировать и указываемый мной верхний диапазон никогда не будет включен в массив. linspace же включает оба промежутка с заданным мной количеством элементов."
   ]
  },
  {
   "cell_type": "code",
   "execution_count": 17,
   "id": "0352a8c4-e690-481d-a345-b35e942b8527",
   "metadata": {},
   "outputs": [
    {
     "data": {
      "text/plain": [
       "array([ 0,  2,  4,  6,  8, 10, 12, 14, 16, 18])"
      ]
     },
     "execution_count": 17,
     "metadata": {},
     "output_type": "execute_result"
    }
   ],
   "source": [
    "np.arange(0, 20, 2)"
   ]
  },
  {
   "cell_type": "code",
   "execution_count": 18,
   "id": "0504cba1-5a2f-493a-a55d-0c1edca4a215",
   "metadata": {},
   "outputs": [
    {
     "data": {
      "text/plain": [
       "array([0.  , 0.25, 0.5 , 0.75, 1.  ])"
      ]
     },
     "execution_count": 18,
     "metadata": {},
     "output_type": "execute_result"
    }
   ],
   "source": [
    "np.linspace(0, 1, 5)"
   ]
  },
  {
   "cell_type": "markdown",
   "id": "223ddf69-d70e-4b53-b408-4adf7cdc8629",
   "metadata": {},
   "source": [
    "Возвращает последовательность данных, равномерно расположенных в заданном интервале на числовой прямой в логарифмическом масштабе."
   ]
  },
  {
   "cell_type": "code",
   "execution_count": 19,
   "id": "dddd519c-e872-43a7-8dbd-97ef5ff880c2",
   "metadata": {},
   "outputs": [
    {
     "data": {
      "text/plain": [
       "array([ 1.        ,  1.77827941,  3.16227766,  5.62341325, 10.        ])"
      ]
     },
     "execution_count": 19,
     "metadata": {},
     "output_type": "execute_result"
    }
   ],
   "source": [
    "np.logspace(0, 1, 5) # последовательность степеней"
   ]
  },
  {
   "cell_type": "code",
   "execution_count": 20,
   "id": "387b0f6b-6b2b-4b25-8056-60bc6340cc6f",
   "metadata": {},
   "outputs": [
    {
     "data": {
      "text/plain": [
       "array([   1.,   10.,  100., 1000.])"
      ]
     },
     "execution_count": 20,
     "metadata": {},
     "output_type": "execute_result"
    }
   ],
   "source": [
    "10 ** np.linspace(0, 3, 4)"
   ]
  },
  {
   "cell_type": "code",
   "execution_count": 21,
   "id": "1e3070d3-af3f-4a96-8389-a5909faaea0e",
   "metadata": {},
   "outputs": [
    {
     "data": {
      "text/plain": [
       "array([ 1.,  2.,  4.,  8., 16., 32.])"
      ]
     },
     "execution_count": 21,
     "metadata": {},
     "output_type": "execute_result"
    }
   ],
   "source": [
    "np.logspace(0, 5, 6, base = 2)"
   ]
  },
  {
   "cell_type": "markdown",
   "id": "8561fb15-998f-4e08-a83d-b5756d8de6e6",
   "metadata": {},
   "source": [
    "Массивы случайных чисел."
   ]
  },
  {
   "cell_type": "code",
   "execution_count": 22,
   "id": "7819d8d4-c9ed-4f76-b1cd-f4c5c9cb5281",
   "metadata": {},
   "outputs": [
    {
     "data": {
      "text/plain": [
       "array([[0.72557834, 0.7498125 , 0.11214657],\n",
       "       [0.84915884, 0.6371339 , 0.43614308],\n",
       "       [0.62258998, 0.35471018, 0.24763155]])"
      ]
     },
     "execution_count": 22,
     "metadata": {},
     "output_type": "execute_result"
    }
   ],
   "source": [
    "np.random.random((3, 3))"
   ]
  },
  {
   "cell_type": "code",
   "execution_count": 23,
   "id": "8a3e218e-c41a-4093-93d9-563d0425c719",
   "metadata": {},
   "outputs": [
    {
     "data": {
      "text/plain": [
       "array([[6, 5, 8],\n",
       "       [7, 5, 7],\n",
       "       [5, 1, 9]])"
      ]
     },
     "execution_count": 23,
     "metadata": {},
     "output_type": "execute_result"
    }
   ],
   "source": [
    "np.random.randint(0, 10, (3, 3))"
   ]
  },
  {
   "cell_type": "markdown",
   "id": "023d668f-3b53-425c-8058-a08063bbbbf6",
   "metadata": {},
   "source": [
    "Единичная матрица"
   ]
  },
  {
   "cell_type": "code",
   "execution_count": 24,
   "id": "d4b62b43-d1df-488a-953c-00ba8b4061b2",
   "metadata": {},
   "outputs": [
    {
     "data": {
      "text/plain": [
       "array([[1., 0., 0.],\n",
       "       [0., 1., 0.],\n",
       "       [0., 0., 1.]])"
      ]
     },
     "execution_count": 24,
     "metadata": {},
     "output_type": "execute_result"
    }
   ],
   "source": [
    "np.eye(3)"
   ]
  },
  {
   "cell_type": "code",
   "execution_count": 25,
   "id": "5cb99bbc-306a-44a7-b479-dfc126dfa79b",
   "metadata": {},
   "outputs": [
    {
     "data": {
      "text/plain": [
       "array([[1, 2],\n",
       "       [3, 4]])"
      ]
     },
     "execution_count": 25,
     "metadata": {},
     "output_type": "execute_result"
    }
   ],
   "source": [
    "test = np.array([[1, 2], [3, 4]], dtype = 'int32')\n",
    "test"
   ]
  },
  {
   "cell_type": "code",
   "execution_count": 26,
   "id": "9a03d110-ece6-4e8e-914d-daf2363f6431",
   "metadata": {},
   "outputs": [],
   "source": [
    "test[0] = [3.14, 2.0001]"
   ]
  },
  {
   "cell_type": "markdown",
   "id": "d9d137e7-9e4b-4c89-afab-b920896fa92b",
   "metadata": {},
   "source": [
    "Произошло округление."
   ]
  },
  {
   "cell_type": "code",
   "execution_count": 27,
   "id": "702e8e6d-3d1d-49a9-891d-dbc3250e5c67",
   "metadata": {},
   "outputs": [
    {
     "data": {
      "text/plain": [
       "array([[3, 2],\n",
       "       [3, 4]])"
      ]
     },
     "execution_count": 27,
     "metadata": {},
     "output_type": "execute_result"
    }
   ],
   "source": [
    "test"
   ]
  },
  {
   "cell_type": "code",
   "execution_count": 28,
   "id": "64db9ebb-16a0-4483-a68f-c56230d66b94",
   "metadata": {},
   "outputs": [],
   "source": [
    "test = np.append(test, [3.14, 2.0001])"
   ]
  },
  {
   "cell_type": "markdown",
   "id": "4a556550-6c33-4f00-85ee-2e3c2b21291b",
   "metadata": {},
   "source": [
    "Выровнялся массив и поменялся тип."
   ]
  },
  {
   "cell_type": "code",
   "execution_count": 29,
   "id": "406462fc-56c7-4783-aa06-904285c38dda",
   "metadata": {},
   "outputs": [
    {
     "data": {
      "text/plain": [
       "array([3.    , 2.    , 3.    , 4.    , 3.14  , 2.0001])"
      ]
     },
     "execution_count": 29,
     "metadata": {},
     "output_type": "execute_result"
    }
   ],
   "source": [
    "test"
   ]
  },
  {
   "cell_type": "code",
   "execution_count": 30,
   "id": "dee9f0a2-cd6c-4714-a368-1053113cd183",
   "metadata": {},
   "outputs": [
    {
     "data": {
      "text/plain": [
       "dtype('float64')"
      ]
     },
     "execution_count": 30,
     "metadata": {},
     "output_type": "execute_result"
    }
   ],
   "source": [
    "test.dtype"
   ]
  },
  {
   "cell_type": "markdown",
   "id": "acf35c7e-0c44-448e-b062-54fa59a383e8",
   "metadata": {},
   "source": [
    "Количество байт, потребляемое элементами массива."
   ]
  },
  {
   "cell_type": "code",
   "execution_count": 31,
   "id": "6ee3439c-c086-41ac-bfe6-7210dd351704",
   "metadata": {},
   "outputs": [
    {
     "data": {
      "text/plain": [
       "48"
      ]
     },
     "execution_count": 31,
     "metadata": {},
     "output_type": "execute_result"
    }
   ],
   "source": [
    "test.nbytes"
   ]
  },
  {
   "cell_type": "code",
   "execution_count": 32,
   "id": "eabc7492-ba8f-4f8b-855e-b3d33e5de451",
   "metadata": {},
   "outputs": [
    {
     "data": {
      "text/plain": [
       "array([[0, 1, 2],\n",
       "       [1, 2, 3],\n",
       "       [2, 3, 4]])"
      ]
     },
     "execution_count": 32,
     "metadata": {},
     "output_type": "execute_result"
    }
   ],
   "source": [
    "np.fromfunction(lambda i, j: i + j, (3, 3), dtype = int) #элементы зависят от индекса"
   ]
  },
  {
   "cell_type": "markdown",
   "id": "cb9422b7-ce66-4b8c-890b-2aa8dc606ee5",
   "metadata": {},
   "source": [
    "Возвращает массив, состоящий из нулей той же формы и типа, что и данный массив."
   ]
  },
  {
   "cell_type": "code",
   "execution_count": 33,
   "id": "7425ffdb-033e-484a-93b7-3a1a7eab8e22",
   "metadata": {},
   "outputs": [
    {
     "data": {
      "text/plain": [
       "array([0., 0., 0., 0., 0., 0.])"
      ]
     },
     "execution_count": 33,
     "metadata": {},
     "output_type": "execute_result"
    }
   ],
   "source": [
    "np.zeros_like(test)"
   ]
  },
  {
   "cell_type": "markdown",
   "id": "00d1928b-3910-4c48-895f-f391eeec80dc",
   "metadata": {},
   "source": [
    "## Доступ к элементам массива"
   ]
  },
  {
   "cell_type": "markdown",
   "id": "e9f38fe5-9815-42bd-be7e-a218d98f89f0",
   "metadata": {},
   "source": [
    "Создаю массивы."
   ]
  },
  {
   "cell_type": "code",
   "execution_count": 34,
   "id": "f1156b7e-4568-4d24-81d3-575d1ddd333a",
   "metadata": {},
   "outputs": [],
   "source": [
    "x1 = np.random.randint(10, size=6)  \n",
    "x2 = np.random.randint(10, size=(3, 4))  \n",
    "x3 = np.random.randint(10, size=(3, 4, 5))  "
   ]
  },
  {
   "cell_type": "code",
   "execution_count": 35,
   "id": "01f298e1-ddd5-45a4-8a99-f531b2800241",
   "metadata": {},
   "outputs": [
    {
     "data": {
      "text/plain": [
       "array([3, 6, 7, 3, 5, 8])"
      ]
     },
     "execution_count": 35,
     "metadata": {},
     "output_type": "execute_result"
    }
   ],
   "source": [
    "x1"
   ]
  },
  {
   "cell_type": "code",
   "execution_count": 36,
   "id": "d6169788-25a9-4c20-9024-a3a1ca083d86",
   "metadata": {},
   "outputs": [
    {
     "data": {
      "text/plain": [
       "array([[0, 0, 3, 8],\n",
       "       [6, 3, 3, 3],\n",
       "       [4, 7, 8, 4]])"
      ]
     },
     "execution_count": 36,
     "metadata": {},
     "output_type": "execute_result"
    }
   ],
   "source": [
    "x2"
   ]
  },
  {
   "cell_type": "code",
   "execution_count": 37,
   "id": "84571650-58cf-42d6-bd9f-6e9cfecec952",
   "metadata": {},
   "outputs": [
    {
     "data": {
      "text/plain": [
       "array([[[7, 9, 2, 6, 9],\n",
       "        [9, 0, 6, 5, 5],\n",
       "        [5, 5, 7, 1, 0],\n",
       "        [9, 3, 6, 6, 2]],\n",
       "\n",
       "       [[8, 7, 1, 6, 2],\n",
       "        [0, 6, 9, 3, 7],\n",
       "        [2, 6, 0, 5, 7],\n",
       "        [2, 4, 7, 7, 8]],\n",
       "\n",
       "       [[6, 5, 5, 1, 0],\n",
       "        [4, 3, 3, 7, 4],\n",
       "        [9, 0, 4, 7, 8],\n",
       "        [6, 4, 6, 8, 6]]])"
      ]
     },
     "execution_count": 37,
     "metadata": {},
     "output_type": "execute_result"
    }
   ],
   "source": [
    "x3"
   ]
  },
  {
   "cell_type": "markdown",
   "id": "db896059-f902-4bbb-8cdd-8f66481a6b08",
   "metadata": {},
   "source": [
    "Практикую доступ к элементам."
   ]
  },
  {
   "cell_type": "code",
   "execution_count": 38,
   "id": "b6a2e9cd-c253-44c3-924b-bd4882cfab02",
   "metadata": {},
   "outputs": [
    {
     "data": {
      "text/plain": [
       "3"
      ]
     },
     "execution_count": 38,
     "metadata": {},
     "output_type": "execute_result"
    }
   ],
   "source": [
    "x1[0]"
   ]
  },
  {
   "cell_type": "code",
   "execution_count": 39,
   "id": "c8a4f2a3-f3ff-49cb-91de-7b7c9f18aade",
   "metadata": {},
   "outputs": [
    {
     "data": {
      "text/plain": [
       "8"
      ]
     },
     "execution_count": 39,
     "metadata": {},
     "output_type": "execute_result"
    }
   ],
   "source": [
    "x1[-1]"
   ]
  },
  {
   "cell_type": "code",
   "execution_count": 40,
   "id": "b7776b85-73a9-4d7c-abe2-e4e6fa04a63f",
   "metadata": {},
   "outputs": [
    {
     "data": {
      "text/plain": [
       "array([[0, 0, 3, 8],\n",
       "       [6, 3, 3, 3],\n",
       "       [4, 7, 8, 4]])"
      ]
     },
     "execution_count": 40,
     "metadata": {},
     "output_type": "execute_result"
    }
   ],
   "source": [
    "x2"
   ]
  },
  {
   "cell_type": "code",
   "execution_count": 41,
   "id": "74052c8d-9dcd-4616-b509-52a48de2ab7b",
   "metadata": {},
   "outputs": [
    {
     "data": {
      "text/plain": [
       "0"
      ]
     },
     "execution_count": 41,
     "metadata": {},
     "output_type": "execute_result"
    }
   ],
   "source": [
    "x2[0,1]"
   ]
  },
  {
   "cell_type": "code",
   "execution_count": 42,
   "id": "8e3d1845-d723-4f4e-bf95-9658e170a2f9",
   "metadata": {},
   "outputs": [
    {
     "data": {
      "text/plain": [
       "8"
      ]
     },
     "execution_count": 42,
     "metadata": {},
     "output_type": "execute_result"
    }
   ],
   "source": [
    "x2[0,-1]"
   ]
  },
  {
   "cell_type": "code",
   "execution_count": 43,
   "id": "efb1120b-fc8b-46a2-a070-86b97d2be2a1",
   "metadata": {},
   "outputs": [
    {
     "data": {
      "text/plain": [
       "array([3, 6, 7, 3, 5, 8])"
      ]
     },
     "execution_count": 43,
     "metadata": {},
     "output_type": "execute_result"
    }
   ],
   "source": [
    "x1"
   ]
  },
  {
   "cell_type": "markdown",
   "id": "80bcb6a8-9590-462f-ad42-49a376c927fe",
   "metadata": {},
   "source": [
    "Конец, указанный в срезе, не учитывается по шагу. Возвращается массив."
   ]
  },
  {
   "cell_type": "code",
   "execution_count": 44,
   "id": "4328f69b-9154-4118-921c-b07918eada8c",
   "metadata": {},
   "outputs": [
    {
     "data": {
      "text/plain": [
       "array([6, 3])"
      ]
     },
     "execution_count": 44,
     "metadata": {},
     "output_type": "execute_result"
    }
   ],
   "source": [
    "# x[start:stop:step]\n",
    "x1[1:-1:2]"
   ]
  },
  {
   "cell_type": "code",
   "execution_count": 45,
   "id": "b32504f9-243d-4fe5-8007-f9bda28079b6",
   "metadata": {},
   "outputs": [
    {
     "data": {
      "text/plain": [
       "array([3, 6, 7, 3, 5])"
      ]
     },
     "execution_count": 45,
     "metadata": {},
     "output_type": "execute_result"
    }
   ],
   "source": [
    "x1[:5]"
   ]
  },
  {
   "cell_type": "code",
   "execution_count": 46,
   "id": "9ee8b788-f9e8-4098-816b-fd74dbf64135",
   "metadata": {},
   "outputs": [
    {
     "data": {
      "text/plain": [
       "array([3, 7, 5])"
      ]
     },
     "execution_count": 46,
     "metadata": {},
     "output_type": "execute_result"
    }
   ],
   "source": [
    "x1[::2]"
   ]
  },
  {
   "cell_type": "code",
   "execution_count": 47,
   "id": "ffd0cc03-4c48-4931-b9a8-1f24dc4bf37d",
   "metadata": {},
   "outputs": [
    {
     "data": {
      "text/plain": [
       "array([8, 5, 3, 7, 6, 3])"
      ]
     },
     "execution_count": 47,
     "metadata": {},
     "output_type": "execute_result"
    }
   ],
   "source": [
    "x1[::-1] # разворот"
   ]
  },
  {
   "cell_type": "code",
   "execution_count": 48,
   "id": "0e69707b-3934-4bcb-8b56-b8cdf58e90c6",
   "metadata": {},
   "outputs": [
    {
     "data": {
      "text/plain": [
       "array([[0, 0, 3, 8],\n",
       "       [6, 3, 3, 3],\n",
       "       [4, 7, 8, 4]])"
      ]
     },
     "execution_count": 48,
     "metadata": {},
     "output_type": "execute_result"
    }
   ],
   "source": [
    "x2"
   ]
  },
  {
   "cell_type": "markdown",
   "id": "e5fcdb92-fc82-4cde-87d3-8fbd57f013ce",
   "metadata": {},
   "source": [
    "Сначала строчки, потом столбцы через запятую."
   ]
  },
  {
   "cell_type": "code",
   "execution_count": 49,
   "id": "ddac808c-1721-4805-ad9c-96b6cf158c0b",
   "metadata": {},
   "outputs": [
    {
     "data": {
      "text/plain": [
       "array([[0, 0],\n",
       "       [6, 3]])"
      ]
     },
     "execution_count": 49,
     "metadata": {},
     "output_type": "execute_result"
    }
   ],
   "source": [
    "x2[:2,:2]"
   ]
  },
  {
   "cell_type": "code",
   "execution_count": 50,
   "id": "6faba7a2-a918-4f8d-b0ca-41ad970dec0b",
   "metadata": {},
   "outputs": [
    {
     "data": {
      "text/plain": [
       "array([[8, 3, 0, 0],\n",
       "       [3, 3, 3, 6],\n",
       "       [4, 8, 7, 4]])"
      ]
     },
     "execution_count": 50,
     "metadata": {},
     "output_type": "execute_result"
    }
   ],
   "source": [
    "x2[:,::-1]"
   ]
  },
  {
   "cell_type": "markdown",
   "id": "0124299a-adec-4635-83fe-b1bad45a2270",
   "metadata": {},
   "source": [
    "Вот так можно указывать столбцы."
   ]
  },
  {
   "cell_type": "code",
   "execution_count": 51,
   "id": "d77c32a7-5eee-41ff-806d-8cc4e0c99c66",
   "metadata": {},
   "outputs": [
    {
     "data": {
      "text/plain": [
       "array([[8, 3, 0],\n",
       "       [3, 3, 3],\n",
       "       [4, 8, 7]])"
      ]
     },
     "execution_count": 51,
     "metadata": {},
     "output_type": "execute_result"
    }
   ],
   "source": [
    "x2[:,[3,2,1]]"
   ]
  },
  {
   "cell_type": "markdown",
   "id": "38adb0a6-720e-401b-b6d6-3c4ac2ecb8b4",
   "metadata": {},
   "source": [
    "Просто весь второй столбец."
   ]
  },
  {
   "cell_type": "code",
   "execution_count": 52,
   "id": "f4e18dca-2624-4ff9-8892-f0a0f1070031",
   "metadata": {},
   "outputs": [
    {
     "data": {
      "text/plain": [
       "array([3, 3, 8])"
      ]
     },
     "execution_count": 52,
     "metadata": {},
     "output_type": "execute_result"
    }
   ],
   "source": [
    "x2[:,2] #столбец"
   ]
  },
  {
   "cell_type": "code",
   "execution_count": 53,
   "id": "ef645a8a-5590-4dd6-97e0-16bee8b28b5d",
   "metadata": {},
   "outputs": [
    {
     "data": {
      "text/plain": [
       "array([4, 7, 8, 4])"
      ]
     },
     "execution_count": 53,
     "metadata": {},
     "output_type": "execute_result"
    }
   ],
   "source": [
    "x2[2,:] #строка"
   ]
  },
  {
   "cell_type": "code",
   "execution_count": 54,
   "id": "1f0a1ccb-f23f-4319-b0b9-edbf122a0d1d",
   "metadata": {},
   "outputs": [],
   "source": [
    "x2_child = x2[2,:] # подмассив"
   ]
  },
  {
   "cell_type": "code",
   "execution_count": 55,
   "id": "5091fac1-b446-4df8-b363-fb6158a497e1",
   "metadata": {},
   "outputs": [],
   "source": [
    "x2_child[0] = 2023"
   ]
  },
  {
   "cell_type": "markdown",
   "id": "f588f86f-0917-4942-9007-f9c2800db78b",
   "metadata": {},
   "source": [
    "А вот так работают массивы, так как обе переменные будут ссылаться на один объект в памяти, изменение одной из них будет видно и в других."
   ]
  },
  {
   "cell_type": "code",
   "execution_count": 56,
   "id": "0f7ecd74-6731-4c77-964e-3720aa554538",
   "metadata": {},
   "outputs": [
    {
     "data": {
      "text/plain": [
       "array([2023,    7,    8,    4])"
      ]
     },
     "execution_count": 56,
     "metadata": {},
     "output_type": "execute_result"
    }
   ],
   "source": [
    "x2_child"
   ]
  },
  {
   "cell_type": "code",
   "execution_count": 57,
   "id": "235cceba-51e3-410e-bb49-9771c227b6f5",
   "metadata": {},
   "outputs": [
    {
     "data": {
      "text/plain": [
       "array([[   0,    0,    3,    8],\n",
       "       [   6,    3,    3,    3],\n",
       "       [2023,    7,    8,    4]])"
      ]
     },
     "execution_count": 57,
     "metadata": {},
     "output_type": "execute_result"
    }
   ],
   "source": [
    "x2"
   ]
  },
  {
   "cell_type": "code",
   "execution_count": 58,
   "id": "babd4241-5962-4873-ab14-530e45bfc188",
   "metadata": {},
   "outputs": [],
   "source": [
    "x2_grownup_child = x2[0,:].copy() # копия для разрыва связи с базовым массивом"
   ]
  },
  {
   "cell_type": "code",
   "execution_count": 59,
   "id": "146bb9b8-03e6-4a75-bb4a-23595656a160",
   "metadata": {},
   "outputs": [
    {
     "data": {
      "text/plain": [
       "array([0, 0, 3, 8])"
      ]
     },
     "execution_count": 59,
     "metadata": {},
     "output_type": "execute_result"
    }
   ],
   "source": [
    "x2_grownup_child"
   ]
  },
  {
   "cell_type": "code",
   "execution_count": 60,
   "id": "5d082829-6113-44d8-a51e-67e33dcac8cc",
   "metadata": {},
   "outputs": [],
   "source": [
    "x2_grownup_child[0] = 2023"
   ]
  },
  {
   "cell_type": "code",
   "execution_count": 61,
   "id": "683a0fe2-fc56-4af5-9780-30a2e2fefa7f",
   "metadata": {},
   "outputs": [
    {
     "data": {
      "text/plain": [
       "array([2023,    0,    3,    8])"
      ]
     },
     "execution_count": 61,
     "metadata": {},
     "output_type": "execute_result"
    }
   ],
   "source": [
    "x2_grownup_child"
   ]
  },
  {
   "cell_type": "code",
   "execution_count": 62,
   "id": "9eed1d88-fc73-46f9-a1e1-889b0d606e8f",
   "metadata": {},
   "outputs": [
    {
     "data": {
      "text/plain": [
       "array([[   0,    0,    3,    8],\n",
       "       [   6,    3,    3,    3],\n",
       "       [2023,    7,    8,    4]])"
      ]
     },
     "execution_count": 62,
     "metadata": {},
     "output_type": "execute_result"
    }
   ],
   "source": [
    "x2"
   ]
  },
  {
   "cell_type": "markdown",
   "id": "246d16f2-3d59-4239-8220-d492a9f5cc4e",
   "metadata": {},
   "source": [
    "## Изменение структуры массива"
   ]
  },
  {
   "cell_type": "code",
   "execution_count": 63,
   "id": "b58245a8-6aa9-4a75-a3b6-88b6e917a256",
   "metadata": {},
   "outputs": [
    {
     "data": {
      "text/plain": [
       "array([1, 2, 3, 4, 5, 6, 7, 8, 9])"
      ]
     },
     "execution_count": 63,
     "metadata": {},
     "output_type": "execute_result"
    }
   ],
   "source": [
    "grid = np.arange(1, 10)\n",
    "grid"
   ]
  },
  {
   "cell_type": "code",
   "execution_count": 64,
   "id": "9e452962-a6ca-48a9-8698-c996c3a98a64",
   "metadata": {},
   "outputs": [
    {
     "name": "stdout",
     "output_type": "stream",
     "text": [
      "[[1 2 3]\n",
      " [4 5 6]\n",
      " [7 8 9]]\n"
     ]
    }
   ],
   "source": [
    "grid = grid.reshape(3, 3) #создаём массив потом меняем его форму\n",
    "print(grid)"
   ]
  },
  {
   "cell_type": "code",
   "execution_count": 65,
   "id": "0b182018-6b83-4121-9a87-f6309c2b8eea",
   "metadata": {},
   "outputs": [
    {
     "ename": "ValueError",
     "evalue": "cannot reshape array of size 9 into shape (3,2)",
     "output_type": "error",
     "traceback": [
      "\u001b[1;31m---------------------------------------------------------------------------\u001b[0m",
      "\u001b[1;31mValueError\u001b[0m                                Traceback (most recent call last)",
      "Cell \u001b[1;32mIn[65], line 1\u001b[0m\n\u001b[1;32m----> 1\u001b[0m \u001b[43mnp\u001b[49m\u001b[38;5;241;43m.\u001b[39;49m\u001b[43marange\u001b[49m\u001b[43m(\u001b[49m\u001b[38;5;241;43m1\u001b[39;49m\u001b[43m,\u001b[49m\u001b[43m \u001b[49m\u001b[38;5;241;43m10\u001b[39;49m\u001b[43m)\u001b[49m\u001b[38;5;241;43m.\u001b[39;49m\u001b[43mreshape\u001b[49m\u001b[43m(\u001b[49m\u001b[38;5;241;43m3\u001b[39;49m\u001b[43m,\u001b[49m\u001b[43m \u001b[49m\u001b[38;5;241;43m2\u001b[39;49m\u001b[43m)\u001b[49m\n",
      "\u001b[1;31mValueError\u001b[0m: cannot reshape array of size 9 into shape (3,2)"
     ]
    }
   ],
   "source": [
    "np.arange(1, 10).reshape(3, 2)"
   ]
  },
  {
   "cell_type": "code",
   "execution_count": 66,
   "id": "ac731d94-86ca-4676-a6d0-d7fcdde4f9aa",
   "metadata": {},
   "outputs": [
    {
     "data": {
      "text/plain": [
       "array([[1, 2, 3]])"
      ]
     },
     "execution_count": 66,
     "metadata": {},
     "output_type": "execute_result"
    }
   ],
   "source": [
    "x = np.array([1, 2, 3])\n",
    "x.reshape((1, 3)) "
   ]
  },
  {
   "cell_type": "code",
   "execution_count": 67,
   "id": "80b525e2-68f5-4dc6-8d9c-f70bf80ca645",
   "metadata": {},
   "outputs": [
    {
     "data": {
      "text/plain": [
       "array([[1],\n",
       "       [2],\n",
       "       [3]])"
      ]
     },
     "execution_count": 67,
     "metadata": {},
     "output_type": "execute_result"
    }
   ],
   "source": [
    "x.reshape(3, 1) "
   ]
  },
  {
   "cell_type": "markdown",
   "id": "118590d7-628a-46c8-90c1-1d780290b36b",
   "metadata": {},
   "source": [
    "Увеличиваю размерность массива."
   ]
  },
  {
   "cell_type": "code",
   "execution_count": 68,
   "id": "73c59ec2-a3ed-4422-9e4e-6da3a4492bf8",
   "metadata": {},
   "outputs": [
    {
     "data": {
      "text/plain": [
       "array([[1, 2, 3]])"
      ]
     },
     "execution_count": 68,
     "metadata": {},
     "output_type": "execute_result"
    }
   ],
   "source": [
    "x[np.newaxis,:]"
   ]
  },
  {
   "cell_type": "code",
   "execution_count": 69,
   "id": "cf36749a-24a0-41f8-89aa-17fac778efc2",
   "metadata": {},
   "outputs": [
    {
     "data": {
      "text/plain": [
       "array([1, 2, 3, 3, 2, 1])"
      ]
     },
     "execution_count": 69,
     "metadata": {},
     "output_type": "execute_result"
    }
   ],
   "source": [
    "x = np.array([1, 2, 3])\n",
    "y = np.array([3, 2, 1])\n",
    "np.concatenate([x, y])"
   ]
  },
  {
   "cell_type": "code",
   "execution_count": 70,
   "id": "0be9a921-a336-4e19-8f70-88096e930a8d",
   "metadata": {},
   "outputs": [
    {
     "name": "stdout",
     "output_type": "stream",
     "text": [
      "[ 1  2  3  3  2  1 99 99 99]\n"
     ]
    }
   ],
   "source": [
    "z = np.array([99, 99, 99])\n",
    "print(np.concatenate([x, y, z]))"
   ]
  },
  {
   "cell_type": "code",
   "execution_count": 71,
   "id": "db0ae0bf-e76b-4705-9790-4e012d03a705",
   "metadata": {},
   "outputs": [],
   "source": [
    "grid1 = np.array([[1, 2, 3],\n",
    "                 [4, 5, 6]])"
   ]
  },
  {
   "cell_type": "markdown",
   "id": "e32c3e83-b43e-43a4-b556-dbff2387a131",
   "metadata": {},
   "source": [
    "Буду склеивать элементы массивов на первом уровне вложенности."
   ]
  },
  {
   "cell_type": "code",
   "execution_count": 72,
   "id": "63b8974b-e064-4c87-b1a5-ed75c444f0c4",
   "metadata": {},
   "outputs": [
    {
     "data": {
      "text/plain": [
       "array([[0., 0., 0.],\n",
       "       [0., 0., 0.]])"
      ]
     },
     "execution_count": 72,
     "metadata": {},
     "output_type": "execute_result"
    }
   ],
   "source": [
    "grid2 = np.zeros((2,3))\n",
    "grid2"
   ]
  },
  {
   "cell_type": "code",
   "execution_count": 73,
   "id": "8baade92-edfc-4edb-81c4-93731cc5b2ef",
   "metadata": {},
   "outputs": [
    {
     "data": {
      "text/plain": [
       "array([[1., 2., 3.],\n",
       "       [4., 5., 6.],\n",
       "       [0., 0., 0.],\n",
       "       [0., 0., 0.]])"
      ]
     },
     "execution_count": 73,
     "metadata": {},
     "output_type": "execute_result"
    }
   ],
   "source": [
    "np.concatenate([grid1, grid2]) # конкатенация по 1 - ому измерению"
   ]
  },
  {
   "cell_type": "code",
   "execution_count": 74,
   "id": "112a16ed-77ee-4b06-9240-db198249d6db",
   "metadata": {},
   "outputs": [
    {
     "data": {
      "text/plain": [
       "array([[1., 2., 3., 0., 0., 0.],\n",
       "       [4., 5., 6., 0., 0., 0.]])"
      ]
     },
     "execution_count": 74,
     "metadata": {},
     "output_type": "execute_result"
    }
   ],
   "source": [
    "np.concatenate([grid1, grid2],axis = 1) # конкатенация по 2 - ому измерению"
   ]
  },
  {
   "cell_type": "markdown",
   "id": "710cd4da-f4ba-47ac-96ba-d1f1d25ef0ab",
   "metadata": {},
   "source": [
    "Присоединяю данные по вертикальной и горизонтальной осям."
   ]
  },
  {
   "cell_type": "code",
   "execution_count": 75,
   "id": "0dcabf46-ac7e-4cdf-b878-44383bdc700d",
   "metadata": {},
   "outputs": [
    {
     "data": {
      "text/plain": [
       "array([[1., 2., 3.],\n",
       "       [4., 5., 6.],\n",
       "       [0., 0., 0.],\n",
       "       [0., 0., 0.]])"
      ]
     },
     "execution_count": 75,
     "metadata": {},
     "output_type": "execute_result"
    }
   ],
   "source": [
    "np.vstack([grid1, grid2])"
   ]
  },
  {
   "cell_type": "code",
   "execution_count": 76,
   "id": "22f7a0e2-3273-474c-a63a-65f0efd0f5e7",
   "metadata": {},
   "outputs": [
    {
     "data": {
      "text/plain": [
       "array([[1., 2., 3., 0., 0., 0.],\n",
       "       [4., 5., 6., 0., 0., 0.]])"
      ]
     },
     "execution_count": 76,
     "metadata": {},
     "output_type": "execute_result"
    }
   ],
   "source": [
    "np.hstack([grid1, grid2])"
   ]
  },
  {
   "cell_type": "code",
   "execution_count": 77,
   "id": "2070f906-dcd7-4935-867a-3cc540c03947",
   "metadata": {},
   "outputs": [
    {
     "data": {
      "text/plain": [
       "[array([1, 2]), array([ 3, 99]), array([99,  3]), array([2, 1])]"
      ]
     },
     "execution_count": 77,
     "metadata": {},
     "output_type": "execute_result"
    }
   ],
   "source": [
    "x = np.array([1, 2, 3, 99, 99, 3, 2, 1])\n",
    "np.split(x, 4) # разделение массива"
   ]
  },
  {
   "cell_type": "markdown",
   "id": "174503d3-0721-4524-99c6-7e59a53532b5",
   "metadata": {},
   "source": [
    "Разделит массив по указанным индексам."
   ]
  },
  {
   "cell_type": "code",
   "execution_count": 78,
   "id": "d5ef6e94-a307-4091-8a81-c010eb34426a",
   "metadata": {},
   "outputs": [
    {
     "data": {
      "text/plain": [
       "[array([1, 2, 3]), array([99, 99]), array([3, 2, 1])]"
      ]
     },
     "execution_count": 78,
     "metadata": {},
     "output_type": "execute_result"
    }
   ],
   "source": [
    "np.split(x,[3, 5])"
   ]
  },
  {
   "cell_type": "code",
   "execution_count": 79,
   "id": "2057aeec-deb7-4470-85f6-43fd32f453cc",
   "metadata": {},
   "outputs": [
    {
     "data": {
      "text/plain": [
       "array([[ 0,  1,  2,  3],\n",
       "       [ 4,  5,  6,  7],\n",
       "       [ 8,  9, 10, 11],\n",
       "       [12, 13, 14, 15]])"
      ]
     },
     "execution_count": 79,
     "metadata": {},
     "output_type": "execute_result"
    }
   ],
   "source": [
    "grid = np.arange(16).reshape((4, 4))\n",
    "grid"
   ]
  },
  {
   "cell_type": "code",
   "execution_count": 80,
   "id": "ec79b551-3db9-49a7-a4d3-dc01da6e5a5b",
   "metadata": {},
   "outputs": [
    {
     "name": "stdout",
     "output_type": "stream",
     "text": [
      "[[0 1 2 3]\n",
      " [4 5 6 7]]\n",
      "[[ 8  9 10 11]\n",
      " [12 13 14 15]]\n"
     ]
    }
   ],
   "source": [
    "upper, lower = np.vsplit(grid, [2])\n",
    "print(upper)\n",
    "print(lower)"
   ]
  },
  {
   "cell_type": "code",
   "execution_count": 81,
   "id": "9021b51e-92d7-4b68-83f1-3a66a7e8ae7e",
   "metadata": {},
   "outputs": [
    {
     "name": "stdout",
     "output_type": "stream",
     "text": [
      "[[ 0  1]\n",
      " [ 4  5]\n",
      " [ 8  9]\n",
      " [12 13]]\n",
      "[[ 2  3]\n",
      " [ 6  7]\n",
      " [10 11]\n",
      " [14 15]]\n"
     ]
    }
   ],
   "source": [
    "left, right = np.hsplit(grid, [2])\n",
    "print(left)\n",
    "print(right)"
   ]
  },
  {
   "cell_type": "markdown",
   "id": "4c333321-a9c0-4a0d-93a6-95fc7b68bcbb",
   "metadata": {},
   "source": [
    "## Векторизация"
   ]
  },
  {
   "cell_type": "code",
   "execution_count": 82,
   "id": "ecda325d-964f-4b2d-be05-a43ec8fcfdab",
   "metadata": {},
   "outputs": [],
   "source": [
    "big_array = np.random.randint(1,100,1000000)"
   ]
  },
  {
   "cell_type": "code",
   "execution_count": 83,
   "id": "720270f2-5393-45aa-8c65-fec452df4e16",
   "metadata": {},
   "outputs": [
    {
     "data": {
      "text/plain": [
       "array([0.02439024, 0.02      , 0.01030928, ..., 0.01020408, 0.03703704,\n",
       "       0.01818182])"
      ]
     },
     "execution_count": 83,
     "metadata": {},
     "output_type": "execute_result"
    }
   ],
   "source": [
    "1/big_array"
   ]
  },
  {
   "cell_type": "code",
   "execution_count": 84,
   "id": "47d0c248-7338-473c-a970-de406166a92c",
   "metadata": {},
   "outputs": [
    {
     "name": "stdout",
     "output_type": "stream",
     "text": [
      "4.94 ms ± 269 µs per loop (mean ± std. dev. of 7 runs, 100 loops each)\n"
     ]
    }
   ],
   "source": [
    "%timeit 1/big_array"
   ]
  },
  {
   "cell_type": "markdown",
   "id": "92724472-81ed-4a27-bbcc-b2393d5c2234",
   "metadata": {},
   "source": [
    "Поэлементное выполнение операций."
   ]
  },
  {
   "cell_type": "code",
   "execution_count": 88,
   "id": "0caca3ba-0e37-4fd5-9f0a-8f9745c7dba0",
   "metadata": {},
   "outputs": [
    {
     "data": {
      "text/plain": [
       "array([0.        , 0.5       , 0.66666667, 0.75      , 0.8       ])"
      ]
     },
     "execution_count": 88,
     "metadata": {},
     "output_type": "execute_result"
    }
   ],
   "source": [
    "np.arange(5) / np.arange(1, 6)"
   ]
  },
  {
   "cell_type": "code",
   "execution_count": 89,
   "id": "3be786a0-483e-4116-a27d-9d3f1eb0400d",
   "metadata": {},
   "outputs": [
    {
     "data": {
      "text/plain": [
       "array([0, 1, 2, 3, 4])"
      ]
     },
     "execution_count": 89,
     "metadata": {},
     "output_type": "execute_result"
    }
   ],
   "source": [
    "np.arange(5)"
   ]
  },
  {
   "cell_type": "code",
   "execution_count": 90,
   "id": "7a618745-3250-47c8-98f5-91ce972e0f98",
   "metadata": {},
   "outputs": [
    {
     "data": {
      "text/plain": [
       "array([1, 2, 3, 4, 5])"
      ]
     },
     "execution_count": 90,
     "metadata": {},
     "output_type": "execute_result"
    }
   ],
   "source": [
    "np.arange(1, 6)"
   ]
  },
  {
   "cell_type": "code",
   "execution_count": 91,
   "id": "1bee113d-ae32-4049-a530-12459341d0da",
   "metadata": {},
   "outputs": [
    {
     "data": {
      "text/plain": [
       "array([0, 2, 4, 6, 8])"
      ]
     },
     "execution_count": 91,
     "metadata": {},
     "output_type": "execute_result"
    }
   ],
   "source": [
    "2*np.arange(5) "
   ]
  },
  {
   "cell_type": "markdown",
   "id": "020a9bc3-e57e-429d-84e3-7127b82a47d3",
   "metadata": {},
   "source": [
    "То же самое и с возведением в степень."
   ]
  },
  {
   "cell_type": "code",
   "execution_count": 93,
   "id": "5302eefb-acc4-44a8-b544-3cb1c9f123e0",
   "metadata": {},
   "outputs": [
    {
     "data": {
      "text/plain": [
       "array([[  1,   2,   4],\n",
       "       [  8,  16,  32],\n",
       "       [ 64, 128, 256]], dtype=int32)"
      ]
     },
     "execution_count": 93,
     "metadata": {},
     "output_type": "execute_result"
    }
   ],
   "source": [
    "x = np.arange(9).reshape((3, 3))\n",
    "2 ** x"
   ]
  },
  {
   "cell_type": "code",
   "execution_count": 94,
   "id": "e9d57c6f-d845-4aef-b23a-e0fa0c2631be",
   "metadata": {},
   "outputs": [
    {
     "data": {
      "text/plain": [
       "array([[0, 1, 2],\n",
       "       [3, 4, 5],\n",
       "       [6, 7, 8]])"
      ]
     },
     "execution_count": 94,
     "metadata": {},
     "output_type": "execute_result"
    }
   ],
   "source": [
    "x"
   ]
  },
  {
   "cell_type": "code",
   "execution_count": 96,
   "id": "abe19008-1975-4ee2-8068-dbf49e4bcc15",
   "metadata": {},
   "outputs": [
    {
     "data": {
      "text/plain": [
       "array([[       1,        1,        4],\n",
       "       [      27,      256,     3125],\n",
       "       [   46656,   823543, 16777216]])"
      ]
     },
     "execution_count": 96,
     "metadata": {},
     "output_type": "execute_result"
    }
   ],
   "source": [
    "x**x"
   ]
  },
  {
   "cell_type": "code",
   "execution_count": 97,
   "id": "4646c3c2-01b3-4043-b821-d652dd62366c",
   "metadata": {},
   "outputs": [
    {
     "name": "stdout",
     "output_type": "stream",
     "text": [
      "x      = [0 1 2 3]\n",
      "x + 5  = [5 6 7 8]\n",
      "x - 5  = [-5 -4 -3 -2]\n",
      "x * 2  = [0 2 4 6]\n",
      "x / 2  = [0.  0.5 1.  1.5]\n",
      "x // 2 = [0 0 1 1]\n",
      "-x     =  [ 0 -1 -2 -3]\n",
      "x ** 2 =  [0 1 4 9]\n",
      "x % 2  =  [0 1 0 1]\n"
     ]
    }
   ],
   "source": [
    "x = np.arange(4)\n",
    "print(\"x      =\", x)\n",
    "print(\"x + 5  =\", x + 5)\n",
    "print(\"x - 5  =\", x - 5)\n",
    "print(\"x * 2  =\", x * 2)\n",
    "print(\"x / 2  =\", x / 2)\n",
    "print(\"x // 2 =\", x // 2)\n",
    "print(\"-x     = \", -x)\n",
    "print(\"x ** 2 = \", x ** 2)\n",
    "print(\"x % 2  = \", x % 2)"
   ]
  },
  {
   "cell_type": "code",
   "execution_count": 98,
   "id": "7502018b-fdcb-4d6f-aff4-01780140d100",
   "metadata": {},
   "outputs": [
    {
     "name": "stdout",
     "output_type": "stream",
     "text": [
      "x        = [1, 2, 4, 10]\n",
      "ln(x)    = [0.         0.69314718 1.38629436 2.30258509]\n",
      "log2(x)  = [0.         1.         2.         3.32192809]\n",
      "log10(x) = [0.         0.30103    0.60205999 1.        ]\n"
     ]
    }
   ],
   "source": [
    "x = [1, 2, 4, 10]\n",
    "print(\"x        =\", x)\n",
    "print(\"ln(x)    =\", np.log(x))\n",
    "print(\"log2(x)  =\", np.log2(x))\n",
    "print(\"log10(x) =\", np.log10(x)) # куча математических функций и все с векторизацией"
   ]
  },
  {
   "cell_type": "code",
   "execution_count": 99,
   "id": "afbd5f7c-6203-4acb-bf54-cbe52c8c97ea",
   "metadata": {},
   "outputs": [
    {
     "data": {
      "text/plain": [
       "15"
      ]
     },
     "execution_count": 99,
     "metadata": {},
     "output_type": "execute_result"
    }
   ],
   "source": [
    "x = np.arange(1, 6)\n",
    "np.add.reduce(x)"
   ]
  },
  {
   "cell_type": "code",
   "execution_count": 100,
   "id": "af2e6c04-dbc7-4778-9e85-733bef8e4ee7",
   "metadata": {},
   "outputs": [
    {
     "data": {
      "text/plain": [
       "120"
      ]
     },
     "execution_count": 100,
     "metadata": {},
     "output_type": "execute_result"
    }
   ],
   "source": [
    "np.multiply.reduce(x)"
   ]
  },
  {
   "cell_type": "code",
   "execution_count": 101,
   "id": "2227fe70-34e7-4b50-9b16-df5a01c611e7",
   "metadata": {},
   "outputs": [
    {
     "data": {
      "text/plain": [
       "array([ 1,  3,  6, 10, 15])"
      ]
     },
     "execution_count": 101,
     "metadata": {},
     "output_type": "execute_result"
    }
   ],
   "source": [
    "x = np.arange(1, 6)\n",
    "np.add.accumulate(x)"
   ]
  },
  {
   "cell_type": "code",
   "execution_count": 102,
   "id": "7a41e26b-ff69-4642-afd6-943b586bed85",
   "metadata": {},
   "outputs": [
    {
     "data": {
      "text/plain": [
       "array([  1,   2,   6,  24, 120])"
      ]
     },
     "execution_count": 102,
     "metadata": {},
     "output_type": "execute_result"
    }
   ],
   "source": [
    "np.multiply.accumulate(x)"
   ]
  },
  {
   "cell_type": "code",
   "execution_count": 109,
   "id": "537c9915-30c2-40ce-99f6-80192269bc29",
   "metadata": {},
   "outputs": [
    {
     "name": "stdout",
     "output_type": "stream",
     "text": [
      "118 ms ± 1.28 ms per loop (mean ± std. dev. of 7 runs, 10 loops each)\n",
      "1.38 ms ± 8.83 µs per loop (mean ± std. dev. of 7 runs, 1,000 loops each)\n"
     ]
    }
   ],
   "source": [
    "big_array = np.random.random(1000000)\n",
    "%timeit sum(big_array)\n",
    "%timeit np.sum(big_array)"
   ]
  },
  {
   "cell_type": "code",
   "execution_count": 110,
   "id": "188fb85d-e62b-4163-bb20-2f7545ea6140",
   "metadata": {},
   "outputs": [
    {
     "data": {
      "text/plain": [
       "(4.792749607185343e-07, 0.9999991397595301)"
      ]
     },
     "execution_count": 110,
     "metadata": {},
     "output_type": "execute_result"
    }
   ],
   "source": [
    "np.min(big_array), np.max(big_array)"
   ]
  },
  {
   "cell_type": "code",
   "execution_count": 112,
   "id": "9ca17ef0-1d28-484f-ab1c-06a30f2748e3",
   "metadata": {},
   "outputs": [
    {
     "data": {
      "text/plain": [
       "array([[21, 85, 31, 73, 94, 18, 64, 20, 38, 11],\n",
       "       [43, 67, 85, 27, 75, 59, 94, 72, 63, 14],\n",
       "       [24, 35,  4, 83, 90, 90, 25, 26, 29, 71],\n",
       "       [69, 43, 51, 57, 50, 86, 43, 67, 84, 87],\n",
       "       [56, 53, 19, 38, 20, 83, 91, 65, 19,  0],\n",
       "       [73, 42, 51, 82, 32, 13, 89, 10, 98, 62],\n",
       "       [73, 63, 55, 83, 14, 86, 69, 15, 69, 30],\n",
       "       [13, 40, 53,  7, 52, 24, 53, 43,  4, 12],\n",
       "       [82, 21, 12, 49,  5, 98, 62, 29, 59, 74],\n",
       "       [48, 54,  4, 19, 16, 14, 50, 48, 17, 52]])"
      ]
     },
     "execution_count": 112,
     "metadata": {},
     "output_type": "execute_result"
    }
   ],
   "source": [
    "test= np.random.randint(100,size=(10,10))\n",
    "test"
   ]
  },
  {
   "cell_type": "code",
   "execution_count": 113,
   "id": "8a8f3bd2-7887-4e2d-8635-eb012dad2b65",
   "metadata": {},
   "outputs": [
    {
     "data": {
      "text/plain": [
       "array([13, 21,  4,  7,  5, 13, 25, 10,  4,  0])"
      ]
     },
     "execution_count": 113,
     "metadata": {},
     "output_type": "execute_result"
    }
   ],
   "source": [
    "test.min(axis=0) # минимум по столбцам"
   ]
  },
  {
   "cell_type": "markdown",
   "id": "6e694cf3-0008-4c99-bb69-25b1b6972fcf",
   "metadata": {},
   "source": [
    "## Операции"
   ]
  },
  {
   "cell_type": "code",
   "execution_count": 243,
   "id": "feb74b8a-f5b2-46cc-8180-7b0229a7851d",
   "metadata": {},
   "outputs": [
    {
     "data": {
      "text/plain": [
       "array([5, 6, 7])"
      ]
     },
     "execution_count": 243,
     "metadata": {},
     "output_type": "execute_result"
    }
   ],
   "source": [
    "a = np.array([0, 1, 2])\n",
    "b = np.array([5, 5, 5])\n",
    "a + b\n",
    "\n"
   ]
  },
  {
   "cell_type": "code",
   "execution_count": 244,
   "id": "61297719-eef8-4fea-aa74-9c2efb551f0b",
   "metadata": {},
   "outputs": [
    {
     "data": {
      "text/plain": [
       "array([[1., 1., 1.],\n",
       "       [1., 1., 1.],\n",
       "       [1., 1., 1.]])"
      ]
     },
     "execution_count": 244,
     "metadata": {},
     "output_type": "execute_result"
    }
   ],
   "source": [
    "M = np.ones((3, 3))\n",
    "M"
   ]
  },
  {
   "cell_type": "code",
   "execution_count": 245,
   "id": "66b80a08-f072-4878-8178-81cef0fa7848",
   "metadata": {},
   "outputs": [
    {
     "data": {
      "text/plain": [
       "array([0, 1, 2])"
      ]
     },
     "execution_count": 245,
     "metadata": {},
     "output_type": "execute_result"
    }
   ],
   "source": [
    "a"
   ]
  },
  {
   "cell_type": "code",
   "execution_count": 246,
   "id": "56f6daec-cdbe-4f0d-9ee6-77789f37c157",
   "metadata": {},
   "outputs": [
    {
     "data": {
      "text/plain": [
       "array([[1., 2., 3.],\n",
       "       [1., 2., 3.],\n",
       "       [1., 2., 3.]])"
      ]
     },
     "execution_count": 246,
     "metadata": {},
     "output_type": "execute_result"
    }
   ],
   "source": [
    "M + a # numpy array broadcasting"
   ]
  },
  {
   "cell_type": "markdown",
   "id": "5643a126-96cd-48aa-ac4d-f9074227274b",
   "metadata": {},
   "source": [
    "Увеличиваю размерность."
   ]
  },
  {
   "cell_type": "code",
   "execution_count": 118,
   "id": "75deec1b-d6cf-40b2-b2ae-814df9b674cc",
   "metadata": {},
   "outputs": [
    {
     "name": "stdout",
     "output_type": "stream",
     "text": [
      "[0 1 2]\n",
      "[[0]\n",
      " [1]\n",
      " [2]]\n"
     ]
    }
   ],
   "source": [
    "a = np.arange(3)\n",
    "b = np.arange(3)[:, np.newaxis]\n",
    "\n",
    "print(a)\n",
    "print(b)"
   ]
  },
  {
   "cell_type": "code",
   "execution_count": 119,
   "id": "8ea5aa37-0e6d-401b-97ed-b2963252a60d",
   "metadata": {},
   "outputs": [
    {
     "data": {
      "text/plain": [
       "array([[0, 1, 2],\n",
       "       [1, 2, 3],\n",
       "       [2, 3, 4]])"
      ]
     },
     "execution_count": 119,
     "metadata": {},
     "output_type": "execute_result"
    }
   ],
   "source": [
    "a + b"
   ]
  },
  {
   "cell_type": "code",
   "execution_count": 126,
   "id": "3a66cfda-e8b9-4b3d-a78b-e586352b2355",
   "metadata": {},
   "outputs": [
    {
     "data": {
      "text/plain": [
       "array([[0, 1, 2],\n",
       "       [0, 1, 2],\n",
       "       [0, 1, 2]])"
      ]
     },
     "execution_count": 126,
     "metadata": {},
     "output_type": "execute_result"
    }
   ],
   "source": [
    "np.repeat([a],3,axis=0)"
   ]
  },
  {
   "cell_type": "code",
   "execution_count": 129,
   "id": "e8da4e82-a80e-44a2-b7a1-688a041f7222",
   "metadata": {},
   "outputs": [
    {
     "data": {
      "text/plain": [
       "array([[0, 0, 0],\n",
       "       [1, 1, 1],\n",
       "       [2, 2, 2]])"
      ]
     },
     "execution_count": 129,
     "metadata": {},
     "output_type": "execute_result"
    }
   ],
   "source": [
    "np.repeat(b,3,axis=1)"
   ]
  },
  {
   "cell_type": "code",
   "execution_count": 131,
   "id": "06c606c4-fa49-41e7-a008-c3af0bca52c6",
   "metadata": {},
   "outputs": [
    {
     "data": {
      "text/plain": [
       "(array([[0, 1, 2],\n",
       "        [1, 2, 3],\n",
       "        [2, 3, 4]]),\n",
       " array([[0, 1, 2],\n",
       "        [1, 2, 3],\n",
       "        [2, 3, 4]]))"
      ]
     },
     "execution_count": 131,
     "metadata": {},
     "output_type": "execute_result"
    }
   ],
   "source": [
    "(np.repeat(b,3,axis=1) + np.repeat([a],3,axis=0), a + b)"
   ]
  },
  {
   "cell_type": "code",
   "execution_count": 132,
   "id": "5c6697c5-7a0b-498d-afec-cef0f04d4ff7",
   "metadata": {},
   "outputs": [],
   "source": [
    "M = np.ones((3, 2))\n",
    "a = np.arange(3)"
   ]
  },
  {
   "cell_type": "code",
   "execution_count": 133,
   "id": "ecb33ab4-a1dd-4946-80fa-5bc94dc4a5e0",
   "metadata": {},
   "outputs": [
    {
     "data": {
      "text/plain": [
       "array([0, 1, 2])"
      ]
     },
     "execution_count": 133,
     "metadata": {},
     "output_type": "execute_result"
    }
   ],
   "source": [
    "a"
   ]
  },
  {
   "cell_type": "code",
   "execution_count": 135,
   "id": "12ec0bd2-41b6-477a-8cea-357e8b82c5bd",
   "metadata": {},
   "outputs": [
    {
     "data": {
      "text/plain": [
       "array([[1., 1.],\n",
       "       [1., 1.],\n",
       "       [1., 1.]])"
      ]
     },
     "execution_count": 135,
     "metadata": {},
     "output_type": "execute_result"
    }
   ],
   "source": [
    "M"
   ]
  },
  {
   "cell_type": "code",
   "execution_count": 137,
   "id": "504a557d-0a35-4357-8c52-03b01fce7352",
   "metadata": {},
   "outputs": [
    {
     "ename": "ValueError",
     "evalue": "operands could not be broadcast together with shapes (3,2) (3,) ",
     "output_type": "error",
     "traceback": [
      "\u001b[1;31m---------------------------------------------------------------------------\u001b[0m",
      "\u001b[1;31mValueError\u001b[0m                                Traceback (most recent call last)",
      "Cell \u001b[1;32mIn[137], line 1\u001b[0m\n\u001b[1;32m----> 1\u001b[0m \u001b[43mM\u001b[49m\u001b[43m \u001b[49m\u001b[38;5;241;43m+\u001b[39;49m\u001b[43m \u001b[49m\u001b[43ma\u001b[49m\n",
      "\u001b[1;31mValueError\u001b[0m: operands could not be broadcast together with shapes (3,2) (3,) "
     ]
    }
   ],
   "source": [
    "M + a"
   ]
  },
  {
   "cell_type": "code",
   "execution_count": 138,
   "id": "1c9d0333-77fb-46df-aff3-cdd9fc3da434",
   "metadata": {},
   "outputs": [
    {
     "ename": "ValueError",
     "evalue": "operands could not be broadcast together with shapes (4,) (8,) ",
     "output_type": "error",
     "traceback": [
      "\u001b[1;31m---------------------------------------------------------------------------\u001b[0m",
      "\u001b[1;31mValueError\u001b[0m                                Traceback (most recent call last)",
      "Cell \u001b[1;32mIn[138], line 3\u001b[0m\n\u001b[0;32m      1\u001b[0m a \u001b[38;5;241m=\u001b[39m np\u001b[38;5;241m.\u001b[39marray([\u001b[38;5;241m4\u001b[39m,\u001b[38;5;241m5\u001b[39m,\u001b[38;5;241m6\u001b[39m,\u001b[38;5;241m7\u001b[39m])  \n\u001b[0;32m      2\u001b[0m b \u001b[38;5;241m=\u001b[39m np\u001b[38;5;241m.\u001b[39marray([\u001b[38;5;241m1\u001b[39m,\u001b[38;5;241m3\u001b[39m,\u001b[38;5;241m5\u001b[39m,\u001b[38;5;241m7\u001b[39m,\u001b[38;5;241m9\u001b[39m,\u001b[38;5;241m11\u001b[39m,\u001b[38;5;241m14\u001b[39m,\u001b[38;5;241m10\u001b[39m])  \n\u001b[1;32m----> 3\u001b[0m c \u001b[38;5;241m=\u001b[39m \u001b[43ma\u001b[49m\u001b[38;5;241;43m+\u001b[39;49m\u001b[43mb\u001b[49m;  \n",
      "\u001b[1;31mValueError\u001b[0m: operands could not be broadcast together with shapes (4,) (8,) "
     ]
    }
   ],
   "source": [
    "a = np.array([4,5,6,7])  \n",
    "b = np.array([1,3,5,7,9,11,14,10])  \n",
    "c = a+b;  "
   ]
  },
  {
   "cell_type": "code",
   "execution_count": 139,
   "id": "c8a6e8cc-d2af-42af-af5c-710b60167887",
   "metadata": {},
   "outputs": [
    {
     "name": "stdout",
     "output_type": "stream",
     "text": [
      "matrix1 x matrix2: \n",
      " [[14 30]\n",
      " [38 86]]\n"
     ]
    }
   ],
   "source": [
    "matrix1 = np.array([[1, 3], [5, 7]])\n",
    "             \n",
    "matrix2 = np.array([[2, 6], [4, 8]])\n",
    "\n",
    "result = np.dot(matrix1, matrix2)\n",
    "\n",
    "print(\"matrix1 x matrix2: \\n\",result)"
   ]
  },
  {
   "cell_type": "code",
   "execution_count": 140,
   "id": "214271b3-5c44-46af-bc96-9bf2258df61f",
   "metadata": {},
   "outputs": [
    {
     "data": {
      "text/plain": [
       "array([[7, 8],\n",
       "       [9, 1],\n",
       "       [9, 1]])"
      ]
     },
     "execution_count": 140,
     "metadata": {},
     "output_type": "execute_result"
    }
   ],
   "source": [
    "matrix1 = np.random.randint(10,size=(3,2))\n",
    "matrix1"
   ]
  },
  {
   "cell_type": "code",
   "execution_count": 141,
   "id": "fb99b4e5-f7b0-4bbf-ad7d-4c53b36b11e1",
   "metadata": {},
   "outputs": [
    {
     "data": {
      "text/plain": [
       "array([[5, 8, 1],\n",
       "       [9, 0, 3]])"
      ]
     },
     "execution_count": 141,
     "metadata": {},
     "output_type": "execute_result"
    }
   ],
   "source": [
    "matrix2 = np.random.randint(10,size=(2,3))\n",
    "matrix2"
   ]
  },
  {
   "cell_type": "code",
   "execution_count": 142,
   "id": "377d3618-34d5-4c7a-ae44-4b29cf65eda3",
   "metadata": {},
   "outputs": [
    {
     "data": {
      "text/plain": [
       "array([[107,  56,  31],\n",
       "       [ 54,  72,  12],\n",
       "       [ 54,  72,  12]])"
      ]
     },
     "execution_count": 142,
     "metadata": {},
     "output_type": "execute_result"
    }
   ],
   "source": [
    "np.dot(matrix1,matrix2)"
   ]
  },
  {
   "cell_type": "code",
   "execution_count": 143,
   "id": "62122ec2-8eb1-44e1-9579-b7a395110861",
   "metadata": {},
   "outputs": [
    {
     "data": {
      "text/plain": [
       "array([[116,  49],\n",
       "       [ 90,  75]])"
      ]
     },
     "execution_count": 143,
     "metadata": {},
     "output_type": "execute_result"
    }
   ],
   "source": [
    "np.dot(matrix2,matrix1)"
   ]
  },
  {
   "cell_type": "code",
   "execution_count": 144,
   "id": "689c6804-0523-4145-8b46-fb1c11f48bf9",
   "metadata": {},
   "outputs": [
    {
     "ename": "ValueError",
     "evalue": "shapes (3,2) and (3,2) not aligned: 2 (dim 1) != 3 (dim 0)",
     "output_type": "error",
     "traceback": [
      "\u001b[1;31m---------------------------------------------------------------------------\u001b[0m",
      "\u001b[1;31mValueError\u001b[0m                                Traceback (most recent call last)",
      "Cell \u001b[1;32mIn[144], line 1\u001b[0m\n\u001b[1;32m----> 1\u001b[0m \u001b[43mnp\u001b[49m\u001b[38;5;241;43m.\u001b[39;49m\u001b[43mdot\u001b[49m\u001b[43m(\u001b[49m\u001b[43mmatrix1\u001b[49m\u001b[43m,\u001b[49m\u001b[43mmatrix1\u001b[49m\u001b[43m)\u001b[49m\n",
      "\u001b[1;31mValueError\u001b[0m: shapes (3,2) and (3,2) not aligned: 2 (dim 1) != 3 (dim 0)"
     ]
    }
   ],
   "source": [
    "np.dot(matrix1,matrix1)"
   ]
  },
  {
   "cell_type": "code",
   "execution_count": 145,
   "id": "8f9ab05a-f8df-4321-8ce4-23dd0a775e35",
   "metadata": {},
   "outputs": [],
   "source": [
    "matrix1=np.array([1,2,3])"
   ]
  },
  {
   "cell_type": "code",
   "execution_count": 146,
   "id": "f767e15c-3d73-46e8-9ccc-d4159a6b650f",
   "metadata": {},
   "outputs": [],
   "source": [
    "matrix2 = np.random.randint(10,size=(3,3))"
   ]
  },
  {
   "cell_type": "code",
   "execution_count": 147,
   "id": "e6a4a4e9-b4d7-4748-b564-c65d2d9fe70f",
   "metadata": {},
   "outputs": [
    {
     "data": {
      "text/plain": [
       "array([22, 14, 29])"
      ]
     },
     "execution_count": 147,
     "metadata": {},
     "output_type": "execute_result"
    }
   ],
   "source": [
    "np.dot(matrix2,matrix1)"
   ]
  },
  {
   "cell_type": "code",
   "execution_count": 149,
   "id": "41a95d03-77d9-454e-bfdf-8b34bf437e46",
   "metadata": {},
   "outputs": [
    {
     "data": {
      "text/plain": [
       "array([1, 2, 3])"
      ]
     },
     "execution_count": 149,
     "metadata": {},
     "output_type": "execute_result"
    }
   ],
   "source": [
    "matrix1"
   ]
  },
  {
   "cell_type": "code",
   "execution_count": 150,
   "id": "726b03e3-b852-47fb-ba99-d4bd0cccdd49",
   "metadata": {},
   "outputs": [
    {
     "data": {
      "text/plain": [
       "array([[3, 8, 1],\n",
       "       [1, 2, 3],\n",
       "       [8, 3, 5]])"
      ]
     },
     "execution_count": 150,
     "metadata": {},
     "output_type": "execute_result"
    }
   ],
   "source": [
    "matrix2"
   ]
  },
  {
   "cell_type": "code",
   "execution_count": 152,
   "id": "afd21982-e900-4b3b-9dd2-c77b14d08b98",
   "metadata": {},
   "outputs": [
    {
     "data": {
      "text/plain": [
       "array([22, 14, 29])"
      ]
     },
     "execution_count": 152,
     "metadata": {},
     "output_type": "execute_result"
    }
   ],
   "source": [
    "np.matmul(matrix2,matrix1)"
   ]
  },
  {
   "cell_type": "code",
   "execution_count": 153,
   "id": "c3fc9571-c5a6-439e-a66b-b62b8ab3ca31",
   "metadata": {},
   "outputs": [
    {
     "data": {
      "text/plain": [
       "array([1, 2, 3])"
      ]
     },
     "execution_count": 153,
     "metadata": {},
     "output_type": "execute_result"
    }
   ],
   "source": [
    "matrix1"
   ]
  },
  {
   "cell_type": "code",
   "execution_count": 155,
   "id": "830ec8e4-6f79-4a24-b8d9-3a57da2a602d",
   "metadata": {},
   "outputs": [
    {
     "data": {
      "text/plain": [
       "array([1, 4, 9])"
      ]
     },
     "execution_count": 155,
     "metadata": {},
     "output_type": "execute_result"
    }
   ],
   "source": [
    "np.multiply(matrix1,matrix1)"
   ]
  },
  {
   "cell_type": "code",
   "execution_count": 156,
   "id": "06b30a5c-5f2e-4bf8-a49c-767e03e550ec",
   "metadata": {},
   "outputs": [],
   "source": [
    "matrix1 = np.array([[1, 3], [5, 7]])"
   ]
  },
  {
   "cell_type": "code",
   "execution_count": 157,
   "id": "be804cb8-2cd3-4cca-b223-3aaad715809c",
   "metadata": {},
   "outputs": [
    {
     "data": {
      "text/plain": [
       "array([[0, 0],\n",
       "       [0, 0]])"
      ]
     },
     "execution_count": 157,
     "metadata": {},
     "output_type": "execute_result"
    }
   ],
   "source": [
    "matrix1 - matrix1 "
   ]
  },
  {
   "cell_type": "code",
   "execution_count": 158,
   "id": "082a0a10-074a-439f-a7ed-de8a6f10b96f",
   "metadata": {},
   "outputs": [
    {
     "data": {
      "text/plain": [
       "array([[ 2,  6],\n",
       "       [10, 14]])"
      ]
     },
     "execution_count": 158,
     "metadata": {},
     "output_type": "execute_result"
    }
   ],
   "source": [
    "matrix1 = matrix1 + matrix1\n",
    "matrix1"
   ]
  },
  {
   "cell_type": "code",
   "execution_count": 159,
   "id": "06bb5f71-fe3f-4a11-ae61-a36d9d1e70e9",
   "metadata": {},
   "outputs": [
    {
     "data": {
      "text/plain": [
       "array([[ 4, 12],\n",
       "       [20, 28]])"
      ]
     },
     "execution_count": 159,
     "metadata": {},
     "output_type": "execute_result"
    }
   ],
   "source": [
    "np.add(matrix1,matrix1,out=matrix1)\n",
    "matrix1"
   ]
  },
  {
   "cell_type": "code",
   "execution_count": 160,
   "id": "affe135c-0ab5-4199-9ed6-e8fa4ab8dbc9",
   "metadata": {},
   "outputs": [
    {
     "data": {
      "text/plain": [
       "array([[ 4, 20],\n",
       "       [12, 28]])"
      ]
     },
     "execution_count": 160,
     "metadata": {},
     "output_type": "execute_result"
    }
   ],
   "source": [
    "matrix1.T"
   ]
  },
  {
   "cell_type": "code",
   "execution_count": 161,
   "id": "0fb40a2a-a33c-4d29-8114-f2b0abe757c9",
   "metadata": {},
   "outputs": [
    {
     "data": {
      "text/plain": [
       "-127.99999999999997"
      ]
     },
     "execution_count": 161,
     "metadata": {},
     "output_type": "execute_result"
    }
   ],
   "source": [
    "np.linalg.det(matrix1)"
   ]
  },
  {
   "cell_type": "code",
   "execution_count": 162,
   "id": "56604f31-132d-45fa-9127-86a656e9e1f0",
   "metadata": {},
   "outputs": [
    {
     "data": {
      "text/plain": [
       "array([[-0.21875,  0.09375],\n",
       "       [ 0.15625, -0.03125]])"
      ]
     },
     "execution_count": 162,
     "metadata": {},
     "output_type": "execute_result"
    }
   ],
   "source": [
    "np.linalg.inv(matrix1)"
   ]
  },
  {
   "cell_type": "code",
   "execution_count": 163,
   "id": "6affc7b6-6d37-44d9-9f2c-8b6bd3b6eb2f",
   "metadata": {},
   "outputs": [
    {
     "data": {
      "text/plain": [
       "array([[1, 0],\n",
       "       [0, 1]])"
      ]
     },
     "execution_count": 163,
     "metadata": {},
     "output_type": "execute_result"
    }
   ],
   "source": [
    "np.dot(matrix1, np.linalg.inv(matrix1)).astype(int)"
   ]
  },
  {
   "cell_type": "markdown",
   "id": "a033fcf6-4cf8-412a-a555-997ca5f7a412",
   "metadata": {},
   "source": [
    "## Булевы операции"
   ]
  },
  {
   "cell_type": "code",
   "execution_count": 164,
   "id": "5a71e325-1199-4993-9cbb-9a96575ce681",
   "metadata": {},
   "outputs": [
    {
     "data": {
      "text/plain": [
       "array([1, 2, 3, 4, 5])"
      ]
     },
     "execution_count": 164,
     "metadata": {},
     "output_type": "execute_result"
    }
   ],
   "source": [
    "x"
   ]
  },
  {
   "cell_type": "code",
   "execution_count": 165,
   "id": "22b4001d-ee6e-43d9-ae03-0f3b374315c8",
   "metadata": {},
   "outputs": [
    {
     "data": {
      "text/plain": [
       "array([False, False,  True,  True,  True])"
      ]
     },
     "execution_count": 165,
     "metadata": {},
     "output_type": "execute_result"
    }
   ],
   "source": [
    "x>2"
   ]
  },
  {
   "cell_type": "code",
   "execution_count": 166,
   "id": "a2430749-837d-4ec3-b4ef-e5b88d84889a",
   "metadata": {},
   "outputs": [],
   "source": [
    "x[x>2]=0"
   ]
  },
  {
   "cell_type": "code",
   "execution_count": 167,
   "id": "0307f182-a0e2-41ab-b25e-fab60fa2a508",
   "metadata": {},
   "outputs": [
    {
     "data": {
      "text/plain": [
       "array([1, 2, 0, 0, 0])"
      ]
     },
     "execution_count": 167,
     "metadata": {},
     "output_type": "execute_result"
    }
   ],
   "source": [
    "x"
   ]
  },
  {
   "cell_type": "code",
   "execution_count": 168,
   "id": "3fb6c012-3033-4b40-92ea-68ae07ba1c56",
   "metadata": {},
   "outputs": [
    {
     "data": {
      "text/plain": [
       "True"
      ]
     },
     "execution_count": 168,
     "metadata": {},
     "output_type": "execute_result"
    }
   ],
   "source": [
    "np.any(x==0)"
   ]
  },
  {
   "cell_type": "code",
   "execution_count": 169,
   "id": "6393817c-462e-4821-a6d5-74a24d829fcf",
   "metadata": {},
   "outputs": [
    {
     "data": {
      "text/plain": [
       "False"
      ]
     },
     "execution_count": 169,
     "metadata": {},
     "output_type": "execute_result"
    }
   ],
   "source": [
    "np.all(x==0)"
   ]
  },
  {
   "cell_type": "markdown",
   "id": "9ed6643b-f6f1-4443-aa9c-ef6c95c1add5",
   "metadata": {},
   "source": [
    "Посчитает, там, где True."
   ]
  },
  {
   "cell_type": "code",
   "execution_count": 173,
   "id": "4eb5de55-5a07-49cc-9c5a-0d8e72543729",
   "metadata": {},
   "outputs": [
    {
     "data": {
      "text/plain": [
       "1"
      ]
     },
     "execution_count": 173,
     "metadata": {},
     "output_type": "execute_result"
    }
   ],
   "source": [
    "np.sum(x>1)"
   ]
  },
  {
   "cell_type": "code",
   "execution_count": 174,
   "id": "97ac389b-216a-4090-833c-d5738240afe8",
   "metadata": {},
   "outputs": [
    {
     "data": {
      "text/plain": [
       "2"
      ]
     },
     "execution_count": 174,
     "metadata": {},
     "output_type": "execute_result"
    }
   ],
   "source": [
    "np.sum(x[x>1])"
   ]
  },
  {
   "cell_type": "code",
   "execution_count": 175,
   "id": "710cbcc2-6d34-4658-8883-d9f89b56fa38",
   "metadata": {},
   "outputs": [
    {
     "data": {
      "text/plain": [
       "array([[ 4, 12],\n",
       "       [20, 28]])"
      ]
     },
     "execution_count": 175,
     "metadata": {},
     "output_type": "execute_result"
    }
   ],
   "source": [
    "matrix1"
   ]
  },
  {
   "cell_type": "code",
   "execution_count": 176,
   "id": "111eea8b-b2f8-4f0e-a8a8-d0727179f293",
   "metadata": {},
   "outputs": [
    {
     "data": {
      "text/plain": [
       "(array([], dtype=int64), array([], dtype=int64))"
      ]
     },
     "execution_count": 176,
     "metadata": {},
     "output_type": "execute_result"
    }
   ],
   "source": [
    "np.where(matrix1 == 3)"
   ]
  },
  {
   "cell_type": "code",
   "execution_count": 177,
   "id": "e1ba4727-819c-4d34-bee6-446f2c6762a1",
   "metadata": {},
   "outputs": [
    {
     "name": "stdout",
     "output_type": "stream",
     "text": [
      "[2 6 8 8 2 8 2 8 8 6]\n",
      "[2 6 0 8 2 8 2 8 8 6]\n"
     ]
    }
   ],
   "source": [
    "Z = np.random.randint(1,10, 10)\n",
    "print(Z)\n",
    "\n",
    "Z[Z.argmax()] = 0\n",
    "print(Z)"
   ]
  },
  {
   "cell_type": "code",
   "execution_count": 178,
   "id": "117e7545-ff7e-4aae-8360-df6a80983b1a",
   "metadata": {},
   "outputs": [
    {
     "data": {
      "text/plain": [
       "2"
      ]
     },
     "execution_count": 178,
     "metadata": {},
     "output_type": "execute_result"
    }
   ],
   "source": [
    "Z.argmin()"
   ]
  },
  {
   "cell_type": "markdown",
   "id": "2f2ba731-1bcf-42cb-8923-022eb8db426c",
   "metadata": {},
   "source": [
    "# Задания"
   ]
  },
  {
   "cell_type": "markdown",
   "id": "e553958c-1c45-41b5-9228-d5dc97b6e629",
   "metadata": {},
   "source": [
    "## 1."
   ]
  },
  {
   "cell_type": "markdown",
   "id": "d2cf6b12-a8cb-4e49-938e-2ddd2ebaa0bd",
   "metadata": {},
   "source": [
    "### 2. Реализуйте функцию для создания \"шахматной\" квадратной двоичной матрицы произвольного размера."
   ]
  },
  {
   "cell_type": "code",
   "execution_count": 87,
   "id": "3d1f99a7-239b-4e38-a7fa-f0a4f4d307f8",
   "metadata": {},
   "outputs": [],
   "source": [
    "def get_chess_form(n):\n",
    "    chess_template_1 = np.zeros(n, dtype=int)\n",
    "    chess_template_2 = np.zeros(n, dtype=int)\n",
    "    chess_template_1[1::2] = 1\n",
    "    chess_template_2[::2] = 1\n",
    "    chess_template_3 = np.vstack([chess_template_1, chess_template_2])\n",
    "    res = np.vstack([chess_template_3] * int (n / 2))\n",
    "    if (n % 2):\n",
    "        res = np.vstack([res, chess_template_1])\n",
    "    return res"
   ]
  },
  {
   "cell_type": "code",
   "execution_count": 88,
   "id": "ecd30732-7fde-40a9-ad41-85eb5b2755f0",
   "metadata": {},
   "outputs": [
    {
     "data": {
      "text/plain": [
       "array([[0, 1, 0, 1, 0, 1, 0, 1],\n",
       "       [1, 0, 1, 0, 1, 0, 1, 0],\n",
       "       [0, 1, 0, 1, 0, 1, 0, 1],\n",
       "       [1, 0, 1, 0, 1, 0, 1, 0],\n",
       "       [0, 1, 0, 1, 0, 1, 0, 1],\n",
       "       [1, 0, 1, 0, 1, 0, 1, 0],\n",
       "       [0, 1, 0, 1, 0, 1, 0, 1],\n",
       "       [1, 0, 1, 0, 1, 0, 1, 0]])"
      ]
     },
     "execution_count": 88,
     "metadata": {},
     "output_type": "execute_result"
    }
   ],
   "source": [
    "N = 8\n",
    "chess_arr = get_chess_form(N)\n",
    "chess_arr"
   ]
  },
  {
   "cell_type": "markdown",
   "id": "1b10cc96-ddeb-4f43-8abf-abecc3a72325",
   "metadata": {},
   "source": [
    "### 3. Реализуйте функцию для создания матрицы для сетки координа x и y, покрывающими область [0,1] x [0,1] на плоскости. На вход функция принимает количество точек сетки."
   ]
  },
  {
   "cell_type": "markdown",
   "id": "bbe9ba23-e38a-4031-92ff-f5b350ab1ed3",
   "metadata": {},
   "source": [
    "Первый способ решения."
   ]
  },
  {
   "cell_type": "code",
   "execution_count": 299,
   "id": "fc60a2d9-d69c-45e1-94e4-3ab10f23e188",
   "metadata": {},
   "outputs": [],
   "source": [
    "def get_grid_digits(n):\n",
    "    t = np.linspace(0, 1, n)\n",
    "    t_grid = np.vstack([t] * n)\n",
    "    # t_grid[:,:1] = t_grid[:,:1] + np.reshape(t[::-1], (n, 1))\n",
    "    return t_grid"
   ]
  },
  {
   "cell_type": "code",
   "execution_count": 300,
   "id": "7437a43f-0c6f-449e-88b7-ac8f1213984b",
   "metadata": {},
   "outputs": [
    {
     "data": {
      "text/plain": [
       "array([[0. , 0.2, 0.4, 0.6, 0.8, 1. ],\n",
       "       [0. , 0.2, 0.4, 0.6, 0.8, 1. ],\n",
       "       [0. , 0.2, 0.4, 0.6, 0.8, 1. ],\n",
       "       [0. , 0.2, 0.4, 0.6, 0.8, 1. ],\n",
       "       [0. , 0.2, 0.4, 0.6, 0.8, 1. ],\n",
       "       [0. , 0.2, 0.4, 0.6, 0.8, 1. ]])"
      ]
     },
     "execution_count": 300,
     "metadata": {},
     "output_type": "execute_result"
    }
   ],
   "source": [
    "get_grid_digits(6)"
   ]
  },
  {
   "cell_type": "markdown",
   "id": "5b0c2dd3-7281-4a8a-9ede-95b2c114ad75",
   "metadata": {},
   "source": [
    "Второй способ решения."
   ]
  },
  {
   "cell_type": "code",
   "execution_count": 301,
   "id": "94c3753a-0bb3-4e29-b15d-b021ce8b163f",
   "metadata": {},
   "outputs": [],
   "source": [
    "def get_grid_lists(n):\n",
    "    test = np.zeros((n, n, 2))\n",
    "    t = np.linspace(0, 1, n)\n",
    "    test[:, :, 1:] = np.reshape(t[::-1], (n, 1, 1))\n",
    "    test[:, :, :1] = np.reshape(t, (n, 1))\n",
    "    return test"
   ]
  },
  {
   "cell_type": "code",
   "execution_count": 302,
   "id": "76405f26-9d68-4b54-9cf6-5e04c07e94d6",
   "metadata": {},
   "outputs": [
    {
     "name": "stdout",
     "output_type": "stream",
     "text": [
      "[0. 1.] [0.2 1. ] [0.4 1. ] [0.6 1. ] [0.8 1. ] [1. 1.] \n",
      "[0.  0.8] [0.2 0.8] [0.4 0.8] [0.6 0.8] [0.8 0.8] [1.  0.8] \n",
      "[0.  0.6] [0.2 0.6] [0.4 0.6] [0.6 0.6] [0.8 0.6] [1.  0.6] \n",
      "[0.  0.4] [0.2 0.4] [0.4 0.4] [0.6 0.4] [0.8 0.4] [1.  0.4] \n",
      "[0.  0.2] [0.2 0.2] [0.4 0.2] [0.6 0.2] [0.8 0.2] [1.  0.2] \n",
      "[0. 0.] [0.2 0. ] [0.4 0. ] [0.6 0. ] [0.8 0. ] [1. 0.] \n"
     ]
    }
   ],
   "source": [
    "show_arr(get_grid_lists(6))"
   ]
  },
  {
   "cell_type": "markdown",
   "id": "f6e0267b-e3bc-43a3-afa5-e15bd824e0f7",
   "metadata": {},
   "source": [
    "Как я разбирался со вторым способом."
   ]
  },
  {
   "cell_type": "code",
   "execution_count": 303,
   "id": "5af09073-d0dc-4980-8c8e-0a3cba78c0f9",
   "metadata": {},
   "outputs": [],
   "source": [
    "N = 5\n",
    "test = np.zeros((N, N, 2))"
   ]
  },
  {
   "cell_type": "code",
   "execution_count": 304,
   "id": "8c6a4f1c-19f1-42ec-8a06-5b25705745d1",
   "metadata": {},
   "outputs": [],
   "source": [
    "def show_arr(arr):\n",
    "    for i in arr:\n",
    "        for j in range(len(i)):\n",
    "            print(i[j], end=' ')\n",
    "        print()"
   ]
  },
  {
   "cell_type": "code",
   "execution_count": 305,
   "id": "f1e07b31-ebbd-4a99-9216-8a1887445e40",
   "metadata": {},
   "outputs": [
    {
     "name": "stdout",
     "output_type": "stream",
     "text": [
      "[0. 0.] [0. 0.] [0. 0.] [0. 0.] [0. 0.] \n",
      "[0. 0.] [0. 0.] [0. 0.] [0. 0.] [0. 0.] \n",
      "[0. 0.] [0. 0.] [0. 0.] [0. 0.] [0. 0.] \n",
      "[0. 0.] [0. 0.] [0. 0.] [0. 0.] [0. 0.] \n",
      "[0. 0.] [0. 0.] [0. 0.] [0. 0.] [0. 0.] \n"
     ]
    }
   ],
   "source": [
    "show_arr(test)"
   ]
  },
  {
   "cell_type": "code",
   "execution_count": 306,
   "id": "659b6b10-ce2d-438b-929e-a67125917b53",
   "metadata": {},
   "outputs": [],
   "source": [
    "t = np.linspace(0, 1, N)"
   ]
  },
  {
   "cell_type": "code",
   "execution_count": 307,
   "id": "fee80649-8305-4abf-9322-c4509bc03895",
   "metadata": {},
   "outputs": [
    {
     "data": {
      "text/plain": [
       "array([0.  , 0.25, 0.5 , 0.75, 1.  ])"
      ]
     },
     "execution_count": 307,
     "metadata": {},
     "output_type": "execute_result"
    }
   ],
   "source": [
    "t"
   ]
  },
  {
   "cell_type": "code",
   "execution_count": 308,
   "id": "27e52267-f024-4991-b260-18e9c6aa50d2",
   "metadata": {},
   "outputs": [
    {
     "data": {
      "text/plain": [
       "array([[[0., 0.],\n",
       "        [0., 0.],\n",
       "        [0., 0.],\n",
       "        [0., 0.],\n",
       "        [0., 0.]],\n",
       "\n",
       "       [[0., 0.],\n",
       "        [0., 0.],\n",
       "        [0., 0.],\n",
       "        [0., 0.],\n",
       "        [0., 0.]],\n",
       "\n",
       "       [[0., 0.],\n",
       "        [0., 0.],\n",
       "        [0., 0.],\n",
       "        [0., 0.],\n",
       "        [0., 0.]],\n",
       "\n",
       "       [[0., 0.],\n",
       "        [0., 0.],\n",
       "        [0., 0.],\n",
       "        [0., 0.],\n",
       "        [0., 0.]],\n",
       "\n",
       "       [[0., 0.],\n",
       "        [0., 0.],\n",
       "        [0., 0.],\n",
       "        [0., 0.],\n",
       "        [0., 0.]]])"
      ]
     },
     "execution_count": 308,
     "metadata": {},
     "output_type": "execute_result"
    }
   ],
   "source": [
    "test"
   ]
  },
  {
   "cell_type": "code",
   "execution_count": 309,
   "id": "281cb2fb-af1b-40f8-b3dc-aacade78adde",
   "metadata": {},
   "outputs": [
    {
     "name": "stdout",
     "output_type": "stream",
     "text": [
      "[0. 0.] [0. 0.] [0. 0.] [0. 0.] [0. 0.] \n",
      "[0. 0.] [0. 0.] [0. 0.] [0. 0.] [0. 0.] \n",
      "[0. 0.] [0. 0.] [0. 0.] [0. 0.] [0. 0.] \n",
      "[0. 0.] [0. 0.] [0. 0.] [0. 0.] [0. 0.] \n",
      "[0. 0.] [0. 0.] [0. 0.] [0. 0.] [0. 0.] \n"
     ]
    }
   ],
   "source": [
    "show_arr(test)"
   ]
  },
  {
   "cell_type": "code",
   "execution_count": 310,
   "id": "ff37434d-e7b9-4f4f-b210-8ebfccba34a8",
   "metadata": {},
   "outputs": [
    {
     "data": {
      "text/plain": [
       "array([[[0.],\n",
       "        [0.],\n",
       "        [0.],\n",
       "        [0.],\n",
       "        [0.]],\n",
       "\n",
       "       [[0.],\n",
       "        [0.],\n",
       "        [0.],\n",
       "        [0.],\n",
       "        [0.]],\n",
       "\n",
       "       [[0.],\n",
       "        [0.],\n",
       "        [0.],\n",
       "        [0.],\n",
       "        [0.]],\n",
       "\n",
       "       [[0.],\n",
       "        [0.],\n",
       "        [0.],\n",
       "        [0.],\n",
       "        [0.]],\n",
       "\n",
       "       [[0.],\n",
       "        [0.],\n",
       "        [0.],\n",
       "        [0.],\n",
       "        [0.]]])"
      ]
     },
     "execution_count": 310,
     "metadata": {},
     "output_type": "execute_result"
    }
   ],
   "source": [
    "test[:, :, :1]"
   ]
  },
  {
   "cell_type": "code",
   "execution_count": 311,
   "id": "95dadc52-6077-407e-b305-a82cb94291b9",
   "metadata": {},
   "outputs": [
    {
     "data": {
      "text/plain": [
       "array([0.  , 0.25, 0.5 , 0.75, 1.  ])"
      ]
     },
     "execution_count": 311,
     "metadata": {},
     "output_type": "execute_result"
    }
   ],
   "source": [
    "t"
   ]
  },
  {
   "cell_type": "code",
   "execution_count": 312,
   "id": "9c4886b8-87fb-44ee-8402-155660d6d6cc",
   "metadata": {},
   "outputs": [],
   "source": [
    "test[:, :, 1:] = np.reshape(t[::-1], (N, 1, 1))"
   ]
  },
  {
   "cell_type": "code",
   "execution_count": 313,
   "id": "b47cd183-0684-4036-b69f-5e48b0870cc7",
   "metadata": {},
   "outputs": [
    {
     "name": "stdout",
     "output_type": "stream",
     "text": [
      "[0. 1.] [0. 1.] [0. 1.] [0. 1.] [0. 1.] \n",
      "[0.   0.75] [0.   0.75] [0.   0.75] [0.   0.75] [0.   0.75] \n",
      "[0.  0.5] [0.  0.5] [0.  0.5] [0.  0.5] [0.  0.5] \n",
      "[0.   0.25] [0.   0.25] [0.   0.25] [0.   0.25] [0.   0.25] \n",
      "[0. 0.] [0. 0.] [0. 0.] [0. 0.] [0. 0.] \n"
     ]
    }
   ],
   "source": [
    "show_arr(test)"
   ]
  },
  {
   "cell_type": "code",
   "execution_count": 314,
   "id": "ae858659-63da-47f9-bb54-25eb2fe785d2",
   "metadata": {},
   "outputs": [],
   "source": [
    "test[:, :, :1] = np.reshape(t, (N, 1))"
   ]
  },
  {
   "cell_type": "code",
   "execution_count": 315,
   "id": "c6195b3b-5a3b-4af0-a6bc-3ddd967ef27f",
   "metadata": {},
   "outputs": [
    {
     "name": "stdout",
     "output_type": "stream",
     "text": [
      "[0. 1.] [0.25 1.  ] [0.5 1. ] [0.75 1.  ] [1. 1.] \n",
      "[0.   0.75] [0.25 0.75] [0.5  0.75] [0.75 0.75] [1.   0.75] \n",
      "[0.  0.5] [0.25 0.5 ] [0.5 0.5] [0.75 0.5 ] [1.  0.5] \n",
      "[0.   0.25] [0.25 0.25] [0.5  0.25] [0.75 0.25] [1.   0.25] \n",
      "[0. 0.] [0.25 0.  ] [0.5 0. ] [0.75 0.  ] [1. 0.] \n"
     ]
    }
   ],
   "source": [
    "show_arr(test)"
   ]
  },
  {
   "cell_type": "code",
   "execution_count": 316,
   "id": "f34ee78a-0d17-4dd5-8bce-7ed8b92ba0b6",
   "metadata": {},
   "outputs": [
    {
     "data": {
      "text/plain": [
       "array([[0.  ],\n",
       "       [0.25],\n",
       "       [0.5 ],\n",
       "       [0.75],\n",
       "       [1.  ]])"
      ]
     },
     "execution_count": 316,
     "metadata": {},
     "output_type": "execute_result"
    }
   ],
   "source": [
    "np.reshape(t, (N, 1))"
   ]
  },
  {
   "cell_type": "code",
   "execution_count": 317,
   "id": "d1827e66-932b-40d0-8d1f-f012ce1b6e76",
   "metadata": {},
   "outputs": [
    {
     "data": {
      "text/plain": [
       "array([[[0.  ],\n",
       "        [0.25],\n",
       "        [0.5 ],\n",
       "        [0.75],\n",
       "        [1.  ]],\n",
       "\n",
       "       [[0.  ],\n",
       "        [0.25],\n",
       "        [0.5 ],\n",
       "        [0.75],\n",
       "        [1.  ]],\n",
       "\n",
       "       [[0.  ],\n",
       "        [0.25],\n",
       "        [0.5 ],\n",
       "        [0.75],\n",
       "        [1.  ]],\n",
       "\n",
       "       [[0.  ],\n",
       "        [0.25],\n",
       "        [0.5 ],\n",
       "        [0.75],\n",
       "        [1.  ]],\n",
       "\n",
       "       [[0.  ],\n",
       "        [0.25],\n",
       "        [0.5 ],\n",
       "        [0.75],\n",
       "        [1.  ]]])"
      ]
     },
     "execution_count": 317,
     "metadata": {},
     "output_type": "execute_result"
    }
   ],
   "source": [
    "test[:, :, :1]"
   ]
  },
  {
   "cell_type": "markdown",
   "id": "7550c40d-fb54-41ff-b6a8-b23a102670a3",
   "metadata": {},
   "source": [
    "## 2"
   ]
  },
  {
   "cell_type": "markdown",
   "id": "026bfbf2-b1e1-41ff-8619-ff994da0a4d3",
   "metadata": {},
   "source": [
    "### 1. Реализуйте учебную модель Игры \"Жизнь\". Создайте также динамическое изображение."
   ]
  },
  {
   "cell_type": "markdown",
   "id": "5a2120c8-d56e-4c57-b103-503ac8119cd9",
   "metadata": {},
   "source": [
    "Ход работы."
   ]
  },
  {
   "cell_type": "code",
   "execution_count": 391,
   "id": "67747b05-336f-4806-a440-751f392b4e60",
   "metadata": {},
   "outputs": [
    {
     "data": {
      "text/plain": [
       "array([[1, 1, 0, 1, 0],\n",
       "       [1, 1, 1, 0, 0],\n",
       "       [1, 0, 1, 1, 1],\n",
       "       [1, 1, 0, 0, 0],\n",
       "       [1, 0, 1, 0, 0]])"
      ]
     },
     "execution_count": 391,
     "metadata": {},
     "output_type": "execute_result"
    }
   ],
   "source": [
    "N = 5\n",
    "field = np.random.randint(2, size=(N, N))\n",
    "field"
   ]
  },
  {
   "cell_type": "code",
   "execution_count": 392,
   "id": "8a0c7c5e-c7fe-4fa2-962a-124eea5a177e",
   "metadata": {},
   "outputs": [
    {
     "data": {
      "text/plain": [
       "array([0, 0, 0, 0, 0])"
      ]
     },
     "execution_count": 392,
     "metadata": {},
     "output_type": "execute_result"
    }
   ],
   "source": [
    "horizontal_buff = np.zeros(N, dtype=int)\n",
    "horizontal_buff"
   ]
  },
  {
   "cell_type": "code",
   "execution_count": 393,
   "id": "19aef4e2-2cea-4a9b-ad18-1b0fc667d092",
   "metadata": {},
   "outputs": [
    {
     "data": {
      "text/plain": [
       "array([[0],\n",
       "       [0],\n",
       "       [0],\n",
       "       [0],\n",
       "       [0]])"
      ]
     },
     "execution_count": 393,
     "metadata": {},
     "output_type": "execute_result"
    }
   ],
   "source": [
    "vertical_buff = np.zeros(N, dtype=int)\n",
    "vertical_buff = np.reshape(vertical_buff, (N, 1))\n",
    "vertical_buff"
   ]
  },
  {
   "cell_type": "code",
   "execution_count": 394,
   "id": "89a64176-0cd2-4f88-844f-6c3ce202f5b7",
   "metadata": {},
   "outputs": [
    {
     "data": {
      "text/plain": [
       "array([[0, 0, 0, 0, 0],\n",
       "       [1, 1, 0, 1, 0],\n",
       "       [1, 1, 1, 0, 0],\n",
       "       [1, 0, 1, 1, 1],\n",
       "       [1, 1, 0, 0, 0]])"
      ]
     },
     "execution_count": 394,
     "metadata": {},
     "output_type": "execute_result"
    }
   ],
   "source": [
    "np.vstack([horizontal_buff, field[:N - 1, :]])"
   ]
  },
  {
   "cell_type": "code",
   "execution_count": 395,
   "id": "58c5c25a-8b67-4516-9079-0cde09dc6245",
   "metadata": {},
   "outputs": [
    {
     "data": {
      "text/plain": [
       "array([[1, 1, 1, 0, 0],\n",
       "       [1, 0, 1, 1, 1],\n",
       "       [1, 1, 0, 0, 0],\n",
       "       [1, 0, 1, 0, 0],\n",
       "       [0, 0, 0, 0, 0]])"
      ]
     },
     "execution_count": 395,
     "metadata": {},
     "output_type": "execute_result"
    }
   ],
   "source": [
    "np.vstack([field[1:, :], horizontal_buff])"
   ]
  },
  {
   "cell_type": "code",
   "execution_count": 396,
   "id": "5026fdab-6a52-4b6b-8add-73fa230cb784",
   "metadata": {},
   "outputs": [
    {
     "data": {
      "text/plain": [
       "array([[1, 0, 1, 0, 0],\n",
       "       [1, 1, 0, 0, 0],\n",
       "       [0, 1, 1, 1, 0],\n",
       "       [1, 0, 0, 0, 0],\n",
       "       [0, 1, 0, 0, 0]])"
      ]
     },
     "execution_count": 396,
     "metadata": {},
     "output_type": "execute_result"
    }
   ],
   "source": [
    "np.hstack([field[:, 1:], vertical_buff])"
   ]
  },
  {
   "cell_type": "code",
   "execution_count": 397,
   "id": "83d665dc-efe9-48d1-aa7e-7272e2421595",
   "metadata": {},
   "outputs": [
    {
     "data": {
      "text/plain": [
       "array([[0, 1, 1, 0, 1],\n",
       "       [0, 1, 1, 1, 0],\n",
       "       [0, 1, 0, 1, 1],\n",
       "       [0, 1, 1, 0, 0],\n",
       "       [0, 1, 0, 1, 0]])"
      ]
     },
     "execution_count": 397,
     "metadata": {},
     "output_type": "execute_result"
    }
   ],
   "source": [
    "np.hstack([vertical_buff, field[:, :N - 1]])"
   ]
  },
  {
   "cell_type": "code",
   "execution_count": 398,
   "id": "cf85dcc6-b19c-4956-8ea3-bf3fca423e47",
   "metadata": {},
   "outputs": [
    {
     "data": {
      "text/plain": [
       "array([[0, 0, 0, 0, 0],\n",
       "       [0, 1, 1, 0, 1],\n",
       "       [0, 1, 1, 1, 0],\n",
       "       [0, 1, 0, 1, 1],\n",
       "       [0, 1, 1, 0, 0]])"
      ]
     },
     "execution_count": 398,
     "metadata": {},
     "output_type": "execute_result"
    }
   ],
   "source": [
    "np.pad(field[:N - 1, :N - 1], (1, 0))  "
   ]
  },
  {
   "cell_type": "code",
   "execution_count": 399,
   "id": "9579ea83-d878-4541-b876-b04a8c7dcc7d",
   "metadata": {},
   "outputs": [
    {
     "data": {
      "text/plain": [
       "array([[1, 1, 0, 0, 0],\n",
       "       [0, 1, 1, 1, 0],\n",
       "       [1, 0, 0, 0, 0],\n",
       "       [0, 1, 0, 0, 0],\n",
       "       [0, 0, 0, 0, 0]])"
      ]
     },
     "execution_count": 399,
     "metadata": {},
     "output_type": "execute_result"
    }
   ],
   "source": [
    "np.pad(field[1:, 1:], (0, 1))  "
   ]
  },
  {
   "cell_type": "code",
   "execution_count": 400,
   "id": "571044e0-f31f-45f1-b499-776ee797c32f",
   "metadata": {},
   "outputs": [
    {
     "data": {
      "text/plain": [
       "array([[0, 1, 1, 1, 0],\n",
       "       [0, 1, 0, 1, 1],\n",
       "       [0, 1, 1, 0, 0],\n",
       "       [0, 1, 0, 1, 0],\n",
       "       [0, 0, 0, 0, 0]])"
      ]
     },
     "execution_count": 400,
     "metadata": {},
     "output_type": "execute_result"
    }
   ],
   "source": [
    "np.pad(field[1:, :N - 1],((0, 1), (1, 0)))"
   ]
  },
  {
   "cell_type": "code",
   "execution_count": 401,
   "id": "0bbdd28c-5090-47d8-995f-2c097814414f",
   "metadata": {},
   "outputs": [
    {
     "data": {
      "text/plain": [
       "array([[0, 0, 0, 0, 0],\n",
       "       [1, 0, 1, 0, 0],\n",
       "       [1, 1, 0, 0, 0],\n",
       "       [0, 1, 1, 1, 0],\n",
       "       [1, 0, 0, 0, 0]])"
      ]
     },
     "execution_count": 401,
     "metadata": {},
     "output_type": "execute_result"
    }
   ],
   "source": [
    "np.pad(field[:N - 1, 1:],((1, 0), (0, 1)))"
   ]
  },
  {
   "cell_type": "code",
   "execution_count": 402,
   "id": "a74c4531-432d-4ba7-bd08-7bf902ab9344",
   "metadata": {},
   "outputs": [],
   "source": [
    "field_copy = np.copy(field)\n",
    "field_copy = field + np.vstack([horizontal_buff, field[:N - 1, :]]) + np.vstack([field[1:, :], horizontal_buff]) + np.hstack([field[:, 1:], vertical_buff]) + np.hstack([vertical_buff, field[:, :N - 1]]) + np.pad(field[:N - 1, :N - 1], (1, 0)) + np.pad(field[1:, 1:], (0, 1)) + np.pad(field[1:, :N - 1],((0, 1), (1, 0))) + np.pad(field[:N - 1, 1:],((1, 0), (0, 1)))"
   ]
  },
  {
   "cell_type": "code",
   "execution_count": 403,
   "id": "68fcb590-6fe7-4dd5-82d9-b7d6d88dbadf",
   "metadata": {},
   "outputs": [],
   "source": [
    "field_copy[field == 1] = field_copy[field == 1] - 1"
   ]
  },
  {
   "cell_type": "code",
   "execution_count": 404,
   "id": "edb82da2-47f2-4979-a4ea-29734410f30a",
   "metadata": {},
   "outputs": [
    {
     "data": {
      "text/plain": [
       "array([[3, 4, 4, 1, 1],\n",
       "       [4, 6, 5, 5, 3],\n",
       "       [4, 7, 4, 3, 1],\n",
       "       [3, 5, 4, 4, 2],\n",
       "       [2, 4, 1, 1, 0]])"
      ]
     },
     "execution_count": 404,
     "metadata": {},
     "output_type": "execute_result"
    }
   ],
   "source": [
    "field_copy"
   ]
  },
  {
   "cell_type": "code",
   "execution_count": 405,
   "id": "9a3351ea-c286-4377-b475-9da892c87397",
   "metadata": {},
   "outputs": [
    {
     "data": {
      "text/plain": [
       "array([[1, 1, 0, 1, 0],\n",
       "       [1, 1, 1, 0, 0],\n",
       "       [1, 0, 1, 1, 1],\n",
       "       [1, 1, 0, 0, 0],\n",
       "       [1, 0, 1, 0, 0]])"
      ]
     },
     "execution_count": 405,
     "metadata": {},
     "output_type": "execute_result"
    }
   ],
   "source": [
    "field"
   ]
  },
  {
   "cell_type": "code",
   "execution_count": 406,
   "id": "6286f835-106e-44e6-b97b-8bf444f69ee1",
   "metadata": {},
   "outputs": [],
   "source": [
    "field[field_copy > 3] = 0"
   ]
  },
  {
   "cell_type": "code",
   "execution_count": 408,
   "id": "a6348209-b85b-402e-b553-b6a98805c38a",
   "metadata": {},
   "outputs": [],
   "source": [
    "field[field_copy < 2] = 0"
   ]
  },
  {
   "cell_type": "code",
   "execution_count": 410,
   "id": "4c4630e0-a47b-43eb-8a87-41550c936419",
   "metadata": {},
   "outputs": [],
   "source": [
    "field[field_copy == 3] = 1"
   ]
  },
  {
   "cell_type": "code",
   "execution_count": 412,
   "id": "1fe330e7-7ab3-47b0-ae1b-fa84b0e89251",
   "metadata": {},
   "outputs": [],
   "source": [
    "field[field_copy == 2] = 1"
   ]
  },
  {
   "cell_type": "code",
   "execution_count": 413,
   "id": "79522f19-b8d7-4a46-be5a-f41f7bb009d9",
   "metadata": {},
   "outputs": [
    {
     "data": {
      "text/plain": [
       "array([[1, 0, 0, 0, 0],\n",
       "       [0, 0, 0, 0, 1],\n",
       "       [0, 0, 0, 1, 0],\n",
       "       [1, 0, 0, 0, 1],\n",
       "       [1, 0, 0, 0, 0]])"
      ]
     },
     "execution_count": 413,
     "metadata": {},
     "output_type": "execute_result"
    }
   ],
   "source": [
    "field"
   ]
  },
  {
   "cell_type": "code",
   "execution_count": 414,
   "id": "e6e408e2-36eb-4ab5-a4d2-40d1f59c6f92",
   "metadata": {},
   "outputs": [],
   "source": [
    "def life_game(n, times):\n",
    "    field = np.random.randint(2, size=(n, n))\n",
    "    horizontal_buff = np.zeros(n, dtype=int)\n",
    "    vertical_buff = np.zeros(N, dtype=int)\n",
    "    vertical_buff = np.reshape(vertical_buff, (N, 1))\n",
    "    for i in times:\n",
    "        field_copy = np.copy(field)\n",
    "        field_copy = field + np.vstack([horizontal_buff, field[:N - 1, :]]) + np.vstack([field[1:, :], horizontal_buff]) + np.hstack([field[:, 1:], vertical_buff]) + np.hstack([vertical_buff, field[:, :N - 1]]) + np.pad(field[:N - 1, :N - 1], (1, 0)) + np.pad(field[1:, 1:], (0, 1)) + np.pad(field[1:, :N - 1],((0, 1), (1, 0))) + np.pad(field[:N - 1, 1:],((1, 0), (0, 1)))\n",
    "        field_copy[field == 1] = field_copy[field == 1] - 1\n",
    "        field[field_copy > 3] = 0\n",
    "        field[field_copy < 2] = 0\n",
    "        field[field_copy == 3] = 1\n",
    "        field[field_copy == 2] = 1"
   ]
  },
  {
   "cell_type": "code",
   "execution_count": null,
   "id": "0fca94cf-c03b-4d3a-a85d-9482eb93de8a",
   "metadata": {},
   "outputs": [],
   "source": []
  }
 ],
 "metadata": {
  "kernelspec": {
   "display_name": "Python 3 (ipykernel)",
   "language": "python",
   "name": "python3"
  },
  "language_info": {
   "codemirror_mode": {
    "name": "ipython",
    "version": 3
   },
   "file_extension": ".py",
   "mimetype": "text/x-python",
   "name": "python",
   "nbconvert_exporter": "python",
   "pygments_lexer": "ipython3",
   "version": "3.11.5"
  }
 },
 "nbformat": 4,
 "nbformat_minor": 5
}
